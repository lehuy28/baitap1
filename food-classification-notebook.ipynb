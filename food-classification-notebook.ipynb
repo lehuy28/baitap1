{
 "cells": [
  {
   "cell_type": "code",
   "execution_count": 1,
   "id": "8dd85cee",
   "metadata": {
    "execution": {
     "iopub.execute_input": "2025-10-31T06:52:50.317717Z",
     "iopub.status.busy": "2025-10-31T06:52:50.317404Z",
     "iopub.status.idle": "2025-10-31T06:52:59.548497Z",
     "shell.execute_reply": "2025-10-31T06:52:59.547756Z"
    },
    "papermill": {
     "duration": 9.236928,
     "end_time": "2025-10-31T06:52:59.549715",
     "exception": false,
     "start_time": "2025-10-31T06:52:50.312787",
     "status": "completed"
    },
    "tags": []
   },
   "outputs": [
    {
     "name": "stdout",
     "output_type": "stream",
     "text": [
      "Import thư viện thành công\n"
     ]
    }
   ],
   "source": [
    "import warnings\n",
    "warnings.filterwarnings('ignore')\n",
    "import os\n",
    "import random\n",
    "import pandas as pd\n",
    "import numpy as np\n",
    "import matplotlib.pyplot as plt\n",
    "%matplotlib inline\n",
    "\n",
    "import torch\n",
    "from torchvision import models, transforms\n",
    "import torch.nn as nn\n",
    "import torch.nn.functional as F\n",
    "import torch.optim as optim\n",
    "from torch.utils import data\n",
    "from torch.utils.data import random_split, Dataset, DataLoader\n",
    "import os.path as osp\n",
    "from tqdm import tqdm\n",
    "from PIL import Image\n",
    "\n",
    "root = \"/kaggle/input/food-classification\"\n",
    "\n",
    "print(\"Import thư viện thành công\")"
   ]
  },
  {
   "cell_type": "code",
   "execution_count": 2,
   "id": "94f530fd",
   "metadata": {
    "execution": {
     "iopub.execute_input": "2025-10-31T06:52:59.557143Z",
     "iopub.status.busy": "2025-10-31T06:52:59.556471Z",
     "iopub.status.idle": "2025-10-31T06:52:59.560555Z",
     "shell.execute_reply": "2025-10-31T06:52:59.559848Z"
    },
    "papermill": {
     "duration": 0.008644,
     "end_time": "2025-10-31T06:52:59.561715",
     "exception": false,
     "start_time": "2025-10-31T06:52:59.553071",
     "status": "completed"
    },
    "tags": []
   },
   "outputs": [
    {
     "name": "stdout",
     "output_type": "stream",
     "text": [
      "/kaggle/working\n"
     ]
    }
   ],
   "source": [
    "cwd = os.getcwd()\n",
    "print(cwd)"
   ]
  },
  {
   "cell_type": "code",
   "execution_count": 3,
   "id": "72e53a29",
   "metadata": {
    "execution": {
     "iopub.execute_input": "2025-10-31T06:52:59.568544Z",
     "iopub.status.busy": "2025-10-31T06:52:59.567973Z",
     "iopub.status.idle": "2025-10-31T06:52:59.577149Z",
     "shell.execute_reply": "2025-10-31T06:52:59.576437Z"
    },
    "papermill": {
     "duration": 0.013617,
     "end_time": "2025-10-31T06:52:59.578250",
     "exception": false,
     "start_time": "2025-10-31T06:52:59.564633",
     "status": "completed"
    },
    "tags": []
   },
   "outputs": [
    {
     "name": "stdout",
     "output_type": "stream",
     "text": [
      "Đã thiết lập seed = 42 thành công\n"
     ]
    }
   ],
   "source": [
    "# Thiet lap seed cho environment\n",
    "\n",
    "def set_seed(seed):\n",
    "    random.seed(seed)\n",
    "    np.random.seed(seed)\n",
    "    torch.manual_seed(seed)\n",
    "    torch.cuda.manual_seed(seed)\n",
    "    torch.cuda.manual_seed_all(seed)\n",
    "\n",
    "    os.environ[\"PYTHONHASHSEED\"] = str(seed)\n",
    "    print(f\"Đã thiết lập seed = {seed} thành công\")\n",
    "\n",
    "SEED = 42\n",
    "set_seed(SEED)"
   ]
  },
  {
   "cell_type": "code",
   "execution_count": 4,
   "id": "948ed768",
   "metadata": {
    "execution": {
     "iopub.execute_input": "2025-10-31T06:52:59.584934Z",
     "iopub.status.busy": "2025-10-31T06:52:59.584448Z",
     "iopub.status.idle": "2025-10-31T06:52:59.589548Z",
     "shell.execute_reply": "2025-10-31T06:52:59.588838Z"
    },
    "papermill": {
     "duration": 0.009537,
     "end_time": "2025-10-31T06:52:59.590697",
     "exception": false,
     "start_time": "2025-10-31T06:52:59.581160",
     "status": "completed"
    },
    "tags": []
   },
   "outputs": [
    {
     "name": "stdout",
     "output_type": "stream",
     "text": [
      "Da dinh nghia ham transform thanh cong\n"
     ]
    }
   ],
   "source": [
    "#Dinh nghia ham transform\n",
    "\n",
    "train_transform = transforms.Compose([\n",
    "    transforms.Resize(224),\n",
    "    transforms.CenterCrop(224),\n",
    "    transforms.ToTensor(),\n",
    "    transforms.Normalize(mean = [0.485, 0.456, 0.406],\n",
    "                         std = [0.229, 0.224, 0.225])\n",
    "\n",
    "])\n",
    "\n",
    "val_transform = transforms.Compose([\n",
    "    transforms.RandomResizedCrop(224),\n",
    "    transforms.RandomHorizontalFlip(),\n",
    "    transforms.ToTensor(),\n",
    "    transforms.Normalize(mean = [0.485, 0.456, 0.406],\n",
    "                         std = [0.229, 0.224, 0.225]),\n",
    "\n",
    "])\n",
    "\n",
    "print(\"Da dinh nghia ham transform thanh cong\")"
   ]
  },
  {
   "cell_type": "code",
   "execution_count": 5,
   "id": "400126e3",
   "metadata": {
    "execution": {
     "iopub.execute_input": "2025-10-31T06:52:59.597416Z",
     "iopub.status.busy": "2025-10-31T06:52:59.596883Z",
     "iopub.status.idle": "2025-10-31T06:52:59.602292Z",
     "shell.execute_reply": "2025-10-31T06:52:59.601745Z"
    },
    "papermill": {
     "duration": 0.009968,
     "end_time": "2025-10-31T06:52:59.603540",
     "exception": false,
     "start_time": "2025-10-31T06:52:59.593572",
     "status": "completed"
    },
    "tags": []
   },
   "outputs": [],
   "source": [
    "#Tao dataset\n",
    "class FoodData(data.Dataset):\n",
    "    def __init__(self, root_dir, transform=None, is_test=False):\n",
    "        self.root_dir = root_dir\n",
    "        self.img_folder = osp.join(root, root_dir, 'images')\n",
    "        self.transform = transform\n",
    "        self.is_test = is_test\n",
    "\n",
    "        if is_test:\n",
    "            self.annotations = pd.read_csv(osp.join(root, root_dir, \"test_mapping.csv\"))\n",
    "        else:\n",
    "            self.annotations = pd.read_csv(osp.join(root, root_dir, \"label.csv\"))\n",
    "\n",
    "    def __len__(self):\n",
    "        return len(self.annotations)\n",
    "\n",
    "    def __getitem__(self, idx):\n",
    "        row = self.annotations.iloc[idx]\n",
    "        img_path = osp.join(self.img_folder, row['image_name'])\n",
    "        image = Image.open(img_path).convert(\"RGB\")\n",
    "\n",
    "        if self.transform:  # Apply the transform here\n",
    "            image = self.transform(image)\n",
    "\n",
    "        if self.is_test:\n",
    "            return image, -1\n",
    "\n",
    "        else:\n",
    "            label = int(row['label'])\n",
    "            return image, label"
   ]
  },
  {
   "cell_type": "markdown",
   "id": "677d0817",
   "metadata": {
    "papermill": {
     "duration": 0.002681,
     "end_time": "2025-10-31T06:52:59.609053",
     "exception": false,
     "start_time": "2025-10-31T06:52:59.606372",
     "status": "completed"
    },
    "tags": []
   },
   "source": [
    "## ResNet50 from scratch"
   ]
  },
  {
   "cell_type": "code",
   "execution_count": 6,
   "id": "f23cd324",
   "metadata": {
    "execution": {
     "iopub.execute_input": "2025-10-31T06:52:59.615342Z",
     "iopub.status.busy": "2025-10-31T06:52:59.615146Z",
     "iopub.status.idle": "2025-10-31T06:52:59.627400Z",
     "shell.execute_reply": "2025-10-31T06:52:59.626715Z"
    },
    "papermill": {
     "duration": 0.016556,
     "end_time": "2025-10-31T06:52:59.628429",
     "exception": false,
     "start_time": "2025-10-31T06:52:59.611873",
     "status": "completed"
    },
    "tags": []
   },
   "outputs": [],
   "source": [
    "class block(nn.Module):\n",
    "    def __init__(self, in_channels, out_channels, identity_downsample=None, stride=1):\n",
    "        super(block, self).__init__()\n",
    "        self.expansion = 4\n",
    "\n",
    "        self.conv1 = nn.Conv2d(in_channels, out_channels, kernel_size=1, stride=1, padding=0)\n",
    "        self.bn1 = nn.BatchNorm2d(out_channels)\n",
    "        self.act1 = nn.ReLU()\n",
    "        self.conv2 = nn.Conv2d(out_channels, out_channels, kernel_size=3, stride=stride, padding=1)\n",
    "        self.bn2 = nn.BatchNorm2d(out_channels)\n",
    "        self.conv3 = nn.Conv2d(out_channels, out_channels*self.expansion, kernel_size=1, stride=1, padding=0)\n",
    "        self.bn3 = nn.BatchNorm2d(out_channels*self.expansion)\n",
    "        self.act2 = nn.ReLU()\n",
    "        self.identity_downsample = identity_downsample\n",
    "        self.act3 = nn.ReLU()\n",
    "\n",
    "    def forward(self, x):\n",
    "\n",
    "        identity = x\n",
    "\n",
    "        x = self.conv1(x)\n",
    "        x = self.bn1(x)\n",
    "        x = self.act1(x)\n",
    "        x = self.conv2(x)\n",
    "        x = self.bn2(x)\n",
    "        x = self.act2(x)\n",
    "        x = self.conv3(x)\n",
    "        x = self.bn3(x)\n",
    "\n",
    "        if self.identity_downsample is not None:\n",
    "            identity = self.identity_downsample(identity)\n",
    "\n",
    "        x += identity\n",
    "        x = self.act3(x)\n",
    "        return x\n",
    "\n",
    "\n",
    "#Xay dung model Resnet:\n",
    "class ResNet(nn.Module): #[3, 4, 6, 3]\n",
    "    def __init__(self, block, layers, input_channels, num_classes):\n",
    "        super(ResNet, self).__init__()\n",
    "\n",
    "        self.in_channels = 64\n",
    "        self.conv1 = nn.Conv2d(input_channels, 64, kernel_size=7, stride=2, padding=3)\n",
    "        self.bn = nn.BatchNorm2d(64)\n",
    "        self.act = nn.ReLU()\n",
    "        self.maxpooling = nn.MaxPool2d(kernel_size=3, stride=2, padding=1)\n",
    "        self.dropout = nn.Dropout2d(p=0.2)\n",
    "        #Create Layers\n",
    "        self.layer1 = self._make_layer(block, layers[0], 64, stride=1)\n",
    "        self.layer2 = self._make_layer(block, layers[1], 128, stride=2)\n",
    "        self.layer3 = self._make_layer(block, layers[2], 256, stride=2)\n",
    "        self.layer4 = self._make_layer(block, layers[3], 512, stride=2)\n",
    "\n",
    "        self.adppool = nn.AdaptiveAvgPool2d((1,1))\n",
    "        self.fc = nn.Linear(512*4, num_classes)\n",
    "\n",
    "\n",
    "\n",
    "    def forward(self, x):\n",
    "        x = self.conv1(x)\n",
    "        x = self.bn(x)\n",
    "        x = self.act(x)\n",
    "        x = self.maxpooling(x)\n",
    "        x = self.dropout(x)\n",
    "\n",
    "        x = self.layer1(x)\n",
    "        x = self.layer2(x)\n",
    "        x = self.layer3(x)        \n",
    "        x = self.layer4(x)\n",
    "        x = self.adppool(x)\n",
    "        x = x.view(x.size(0), -1)\n",
    "\n",
    "        x = self.fc(x)\n",
    "\n",
    "        return x\n",
    "\n",
    "    def _make_layer(self, block, num_residual_blocks, out_channels, stride):\n",
    "        layers = []\n",
    "        identity_downsample = None\n",
    "\n",
    "\n",
    "        if stride!=1 or self.in_channels!= out_channels * 4:\n",
    "            identity_downsample = nn.Sequential(\n",
    "                nn.Conv2d(self.in_channels, out_channels*4, stride=stride, kernel_size=1),\n",
    "                nn.BatchNorm2d(out_channels*4)\n",
    "            )\n",
    "\n",
    "        layers.append(block(self.in_channels, out_channels, identity_downsample, stride))\n",
    "        self.in_channels = out_channels*4\n",
    "\n",
    "        for i in range(num_residual_blocks-1):\n",
    "            layers.append(block(self.in_channels, out_channels))\n",
    "\n",
    "        return nn.Sequential(*layers)"
   ]
  },
  {
   "cell_type": "code",
   "execution_count": 7,
   "id": "5ea8e7c3",
   "metadata": {
    "execution": {
     "iopub.execute_input": "2025-10-31T06:52:59.634655Z",
     "iopub.status.busy": "2025-10-31T06:52:59.634441Z",
     "iopub.status.idle": "2025-10-31T06:52:59.637746Z",
     "shell.execute_reply": "2025-10-31T06:52:59.637055Z"
    },
    "papermill": {
     "duration": 0.007536,
     "end_time": "2025-10-31T06:52:59.638754",
     "exception": false,
     "start_time": "2025-10-31T06:52:59.631218",
     "status": "completed"
    },
    "tags": []
   },
   "outputs": [],
   "source": [
    "def ResNet50(input_channels=3, num_classes=20):\n",
    "    return ResNet(block, [3, 4, 6, 3], input_channels, num_classes)"
   ]
  },
  {
   "cell_type": "code",
   "execution_count": 8,
   "id": "49d644d3",
   "metadata": {
    "execution": {
     "iopub.execute_input": "2025-10-31T06:52:59.645279Z",
     "iopub.status.busy": "2025-10-31T06:52:59.644851Z",
     "iopub.status.idle": "2025-10-31T06:52:59.648588Z",
     "shell.execute_reply": "2025-10-31T06:52:59.647906Z"
    },
    "papermill": {
     "duration": 0.008252,
     "end_time": "2025-10-31T06:52:59.649791",
     "exception": false,
     "start_time": "2025-10-31T06:52:59.641539",
     "status": "completed"
    },
    "tags": []
   },
   "outputs": [],
   "source": [
    "# class EarlyStopping:\n",
    "#     def __init__(self, patience=5, delta=0):\n",
    "#         self.patience = patience\n",
    "#         self.delta = delta\n",
    "#         self.best_score = None\n",
    "#         self.early_stop = False\n",
    "#         self.counter = 0\n",
    "#         self.best_model_state = None\n",
    "\n",
    "#     def __call__(self, val_loss, model):\n",
    "#         score = -val_loss\n",
    "\n",
    "#         if self.best_score is None:\n",
    "#             self.best_score = score\n",
    "#             self.best_model_state = model.state_dict()\n",
    "#         elif score < self.best_score + self.delta:\n",
    "#             self.counter += 1\n",
    "#             if self.counter >= self.patience:\n",
    "#                 self.early_stop = True\n",
    "#         else:\n",
    "#             self.best_score = score\n",
    "#             self.best_model_state = model.state_dict()\n",
    "#             self.counter = 0\n",
    "\n",
    "#     def load_best_model(self, model):\n",
    "#         model.load_state_dict(self.best_model_state)"
   ]
  },
  {
   "cell_type": "code",
   "execution_count": 9,
   "id": "4bc1cc64",
   "metadata": {
    "execution": {
     "iopub.execute_input": "2025-10-31T06:52:59.656304Z",
     "iopub.status.busy": "2025-10-31T06:52:59.655884Z",
     "iopub.status.idle": "2025-10-31T06:52:59.675711Z",
     "shell.execute_reply": "2025-10-31T06:52:59.675113Z"
    },
    "papermill": {
     "duration": 0.024108,
     "end_time": "2025-10-31T06:52:59.676702",
     "exception": false,
     "start_time": "2025-10-31T06:52:59.652594",
     "status": "completed"
    },
    "tags": []
   },
   "outputs": [
    {
     "name": "stdout",
     "output_type": "stream",
     "text": [
      "Tổng số ảnh: 600\n",
      "Train: 510, Validation: 90\n"
     ]
    }
   ],
   "source": [
    "def worker_init_fn(worker_id):\n",
    "    worker_seed = torch.initial_seed() %2 **32\n",
    "    np.random.seed(worker_seed)\n",
    "    random.seed(worker_seed)\n",
    "\n",
    "#Load dataset\n",
    "# Pass the transform to the FoodData constructor\n",
    "full_dataset = FoodData(root_dir=\"contest_data/train/\", transform=train_transform)\n",
    "train_size = int(len(full_dataset)*0.85)\n",
    "val_size = int(len(full_dataset)-train_size)\n",
    "\n",
    "print(f\"Tổng số ảnh: {len(full_dataset)}\")\n",
    "print(f\"Train: {train_size}, Validation: {val_size}\")"
   ]
  },
  {
   "cell_type": "code",
   "execution_count": 10,
   "id": "41d16b39",
   "metadata": {
    "execution": {
     "iopub.execute_input": "2025-10-31T06:52:59.683330Z",
     "iopub.status.busy": "2025-10-31T06:52:59.683135Z",
     "iopub.status.idle": "2025-10-31T06:52:59.689522Z",
     "shell.execute_reply": "2025-10-31T06:52:59.688842Z"
    },
    "papermill": {
     "duration": 0.010845,
     "end_time": "2025-10-31T06:52:59.690658",
     "exception": false,
     "start_time": "2025-10-31T06:52:59.679813",
     "status": "completed"
    },
    "tags": []
   },
   "outputs": [
    {
     "name": "stdout",
     "output_type": "stream",
     "text": [
      "Đã tạo DataLoader (batch_size=25)\n"
     ]
    }
   ],
   "source": [
    "generator = torch.Generator().manual_seed(SEED)\n",
    "\n",
    "train_dataset, val_dataset = random_split(\n",
    "    full_dataset,\n",
    "    [train_size, val_size],\n",
    "    generator=generator\n",
    ")\n",
    "\n",
    "BATCH_SIZE = 25\n",
    "\n",
    "#Load dataset\n",
    "\n",
    "train_loader = DataLoader(\n",
    "    train_dataset,\n",
    "    batch_size=BATCH_SIZE,\n",
    "    shuffle=True,\n",
    "    worker_init_fn=worker_init_fn,\n",
    "    generator=generator,\n",
    "    num_workers=2,\n",
    "    pin_memory=True\n",
    ")\n",
    "\n",
    "val_loader = DataLoader(\n",
    "    val_dataset,\n",
    "    batch_size=BATCH_SIZE,\n",
    "    shuffle=False,\n",
    "    worker_init_fn=worker_init_fn,\n",
    "    num_workers=2,\n",
    "    pin_memory=True\n",
    ")\n",
    "\n",
    "print(f\"Đã tạo DataLoader (batch_size={BATCH_SIZE})\")"
   ]
  },
  {
   "cell_type": "code",
   "execution_count": 11,
   "id": "b29463e2",
   "metadata": {
    "execution": {
     "iopub.execute_input": "2025-10-31T06:52:59.697253Z",
     "iopub.status.busy": "2025-10-31T06:52:59.696885Z",
     "iopub.status.idle": "2025-10-31T06:53:00.205714Z",
     "shell.execute_reply": "2025-10-31T06:53:00.204858Z"
    },
    "papermill": {
     "duration": 0.513345,
     "end_time": "2025-10-31T06:53:00.206903",
     "exception": false,
     "start_time": "2025-10-31T06:52:59.693558",
     "status": "completed"
    },
    "tags": []
   },
   "outputs": [
    {
     "name": "stdout",
     "output_type": "stream",
     "text": [
      "Da thiet lap device: cuda\n",
      "Bat dau huan luyen: 120 epochs\n"
     ]
    }
   ],
   "source": [
    "#7 Train model\n",
    "\n",
    "#Thiet lap device\n",
    "device = torch.device('cuda' if torch.cuda.is_available() else 'cpu')\n",
    "print(f\"Da thiet lap device: {device}\")\n",
    "\n",
    "#Khoi tao model\n",
    "model = ResNet50(num_classes=20)\n",
    "# Move the model to the device\n",
    "model.to(device)\n",
    "torch.backends.cudnn.deterministic = True\n",
    "torch.backends.cudnn.benchmark = False\n",
    "\n",
    "#Khoi tao loss va optimizer\n",
    "criterion = nn.CrossEntropyLoss()\n",
    "optimizer = optim.AdamW(model.parameters(), lr=1e-3, weight_decay=0.01, betas=(0.9, 0.95))\n",
    "scheduler = torch.optim.lr_scheduler.MultiStepLR(optimizer, milestones=[60, 100, 130], gamma=0.5)\n",
    "# early_stopping = EarlyStopping(patience=5, delta=0.01)\n",
    "\n",
    "#Hyper parameters:\n",
    "NUM_EPOCHS = 120\n",
    "print(f\"Bat dau huan luyen: {NUM_EPOCHS} epochs\")\n",
    "\n",
    "#Luu history:\n",
    "train_losss = []\n",
    "val_losss = []\n",
    "train_accc = []\n",
    "val_accc = []\n",
    "\n",
    "best_val_acc = 0.0\n",
    "best_model_state = None"
   ]
  },
  {
   "cell_type": "code",
   "execution_count": 12,
   "id": "9658a6e7",
   "metadata": {
    "_kg_hide-output": true,
    "execution": {
     "iopub.execute_input": "2025-10-31T06:53:00.214366Z",
     "iopub.status.busy": "2025-10-31T06:53:00.214149Z",
     "iopub.status.idle": "2025-10-31T07:10:56.101483Z",
     "shell.execute_reply": "2025-10-31T07:10:56.100344Z"
    },
    "papermill": {
     "duration": 1075.892365,
     "end_time": "2025-10-31T07:10:56.102571",
     "exception": false,
     "start_time": "2025-10-31T06:53:00.210206",
     "status": "completed"
    },
    "tags": []
   },
   "outputs": [
    {
     "name": "stderr",
     "output_type": "stream",
     "text": [
      "Epoch: 1/120 [TRAIN]: 100%|██████████| 21/21 [00:07<00:00,  2.66it/s]\n",
      "Epoch 1/120 [Val]: 100%|██████████| 4/4 [00:00<00:00,  5.05it/s]\n"
     ]
    },
    {
     "name": "stdout",
     "output_type": "stream",
     "text": [
      "\n",
      "Epoch [1/120]:\n",
      "  Train Loss: 3.9041, Train Acc: 4.51%\n",
      "  Val Loss: 3.1158, Val Acc: 5.56%, LR: 0.001000\n",
      "\n"
     ]
    },
    {
     "name": "stderr",
     "output_type": "stream",
     "text": [
      "Epoch: 2/120 [TRAIN]: 100%|██████████| 21/21 [00:06<00:00,  3.16it/s]\n",
      "Epoch 2/120 [Val]: 100%|██████████| 4/4 [00:00<00:00,  6.94it/s]\n"
     ]
    },
    {
     "name": "stdout",
     "output_type": "stream",
     "text": [
      "\n",
      "Epoch [2/120]:\n",
      "  Train Loss: 3.2300, Train Acc: 4.12%\n",
      "  Val Loss: 12.6625, Val Acc: 4.44%, LR: 0.001000\n",
      "\n"
     ]
    },
    {
     "name": "stderr",
     "output_type": "stream",
     "text": [
      "Epoch: 3/120 [TRAIN]: 100%|██████████| 21/21 [00:06<00:00,  3.13it/s]\n",
      "Epoch 3/120 [Val]: 100%|██████████| 4/4 [00:00<00:00,  7.12it/s]\n"
     ]
    },
    {
     "name": "stdout",
     "output_type": "stream",
     "text": [
      "\n",
      "Epoch [3/120]:\n",
      "  Train Loss: 3.2089, Train Acc: 5.88%\n",
      "  Val Loss: 3.8887, Val Acc: 5.56%, LR: 0.001000\n",
      "\n"
     ]
    },
    {
     "name": "stderr",
     "output_type": "stream",
     "text": [
      "Epoch: 4/120 [TRAIN]: 100%|██████████| 21/21 [00:06<00:00,  3.11it/s]\n",
      "Epoch 4/120 [Val]: 100%|██████████| 4/4 [00:00<00:00,  7.09it/s]\n"
     ]
    },
    {
     "name": "stdout",
     "output_type": "stream",
     "text": [
      "\n",
      "Epoch [4/120]:\n",
      "  Train Loss: 3.0617, Train Acc: 7.45%\n",
      "  Val Loss: 5.0918, Val Acc: 4.44%, LR: 0.001000\n",
      "\n"
     ]
    },
    {
     "name": "stderr",
     "output_type": "stream",
     "text": [
      "Epoch: 5/120 [TRAIN]: 100%|██████████| 21/21 [00:06<00:00,  3.07it/s]\n",
      "Epoch 5/120 [Val]: 100%|██████████| 4/4 [00:00<00:00,  7.55it/s]\n"
     ]
    },
    {
     "name": "stdout",
     "output_type": "stream",
     "text": [
      "\n",
      "Epoch [5/120]:\n",
      "  Train Loss: 3.0394, Train Acc: 7.45%\n",
      "  Val Loss: 2.9830, Val Acc: 7.78%, LR: 0.001000\n",
      "\n"
     ]
    },
    {
     "name": "stderr",
     "output_type": "stream",
     "text": [
      "Epoch: 6/120 [TRAIN]: 100%|██████████| 21/21 [00:06<00:00,  3.03it/s]\n",
      "Epoch 6/120 [Val]: 100%|██████████| 4/4 [00:00<00:00,  7.27it/s]\n"
     ]
    },
    {
     "name": "stdout",
     "output_type": "stream",
     "text": [
      "\n",
      "Epoch [6/120]:\n",
      "  Train Loss: 3.0162, Train Acc: 8.82%\n",
      "  Val Loss: 3.0696, Val Acc: 5.56%, LR: 0.001000\n",
      "\n"
     ]
    },
    {
     "name": "stderr",
     "output_type": "stream",
     "text": [
      "Epoch: 7/120 [TRAIN]: 100%|██████████| 21/21 [00:07<00:00,  2.98it/s]\n",
      "Epoch 7/120 [Val]: 100%|██████████| 4/4 [00:00<00:00,  7.15it/s]\n"
     ]
    },
    {
     "name": "stdout",
     "output_type": "stream",
     "text": [
      "\n",
      "Epoch [7/120]:\n",
      "  Train Loss: 3.1416, Train Acc: 10.00%\n",
      "  Val Loss: 3.3008, Val Acc: 6.67%, LR: 0.001000\n",
      "\n"
     ]
    },
    {
     "name": "stderr",
     "output_type": "stream",
     "text": [
      "Epoch: 8/120 [TRAIN]: 100%|██████████| 21/21 [00:07<00:00,  2.95it/s]\n",
      "Epoch 8/120 [Val]: 100%|██████████| 4/4 [00:00<00:00,  7.42it/s]\n"
     ]
    },
    {
     "name": "stdout",
     "output_type": "stream",
     "text": [
      "\n",
      "Epoch [8/120]:\n",
      "  Train Loss: 3.0918, Train Acc: 7.45%\n",
      "  Val Loss: 3.1952, Val Acc: 4.44%, LR: 0.001000\n",
      "\n"
     ]
    },
    {
     "name": "stderr",
     "output_type": "stream",
     "text": [
      "Epoch: 9/120 [TRAIN]: 100%|██████████| 21/21 [00:07<00:00,  2.93it/s]\n",
      "Epoch 9/120 [Val]: 100%|██████████| 4/4 [00:00<00:00,  7.13it/s]\n"
     ]
    },
    {
     "name": "stdout",
     "output_type": "stream",
     "text": [
      "\n",
      "Epoch [9/120]:\n",
      "  Train Loss: 3.0754, Train Acc: 5.88%\n",
      "  Val Loss: 6.8154, Val Acc: 7.78%, LR: 0.001000\n",
      "\n"
     ]
    },
    {
     "name": "stderr",
     "output_type": "stream",
     "text": [
      "Epoch: 10/120 [TRAIN]: 100%|██████████| 21/21 [00:07<00:00,  2.88it/s]\n",
      "Epoch 10/120 [Val]: 100%|██████████| 4/4 [00:00<00:00,  7.09it/s]\n"
     ]
    },
    {
     "name": "stdout",
     "output_type": "stream",
     "text": [
      "\n",
      "Epoch [10/120]:\n",
      "  Train Loss: 3.0013, Train Acc: 8.24%\n",
      "  Val Loss: 3.7519, Val Acc: 8.89%, LR: 0.001000\n",
      "\n"
     ]
    },
    {
     "name": "stderr",
     "output_type": "stream",
     "text": [
      "Epoch: 11/120 [TRAIN]: 100%|██████████| 21/21 [00:07<00:00,  2.83it/s]\n",
      "Epoch 11/120 [Val]: 100%|██████████| 4/4 [00:00<00:00,  7.08it/s]\n"
     ]
    },
    {
     "name": "stdout",
     "output_type": "stream",
     "text": [
      "\n",
      "Epoch [11/120]:\n",
      "  Train Loss: 3.0165, Train Acc: 9.02%\n",
      "  Val Loss: 13.0006, Val Acc: 5.56%, LR: 0.001000\n",
      "\n"
     ]
    },
    {
     "name": "stderr",
     "output_type": "stream",
     "text": [
      "Epoch: 12/120 [TRAIN]: 100%|██████████| 21/21 [00:07<00:00,  2.82it/s]\n",
      "Epoch 12/120 [Val]: 100%|██████████| 4/4 [00:00<00:00,  7.07it/s]\n"
     ]
    },
    {
     "name": "stdout",
     "output_type": "stream",
     "text": [
      "\n",
      "Epoch [12/120]:\n",
      "  Train Loss: 2.9441, Train Acc: 11.96%\n",
      "  Val Loss: 7.3675, Val Acc: 12.22%, LR: 0.001000\n",
      "\n"
     ]
    },
    {
     "name": "stderr",
     "output_type": "stream",
     "text": [
      "Epoch: 13/120 [TRAIN]: 100%|██████████| 21/21 [00:07<00:00,  2.75it/s]\n",
      "Epoch 13/120 [Val]: 100%|██████████| 4/4 [00:00<00:00,  6.33it/s]\n"
     ]
    },
    {
     "name": "stdout",
     "output_type": "stream",
     "text": [
      "\n",
      "Epoch [13/120]:\n",
      "  Train Loss: 2.8880, Train Acc: 10.20%\n",
      "  Val Loss: 3.0049, Val Acc: 11.11%, LR: 0.001000\n",
      "\n"
     ]
    },
    {
     "name": "stderr",
     "output_type": "stream",
     "text": [
      "Epoch: 14/120 [TRAIN]: 100%|██████████| 21/21 [00:07<00:00,  2.69it/s]\n",
      "Epoch 14/120 [Val]: 100%|██████████| 4/4 [00:00<00:00,  6.87it/s]\n"
     ]
    },
    {
     "name": "stdout",
     "output_type": "stream",
     "text": [
      "\n",
      "Epoch [14/120]:\n",
      "  Train Loss: 2.9213, Train Acc: 11.18%\n",
      "  Val Loss: 3.3170, Val Acc: 4.44%, LR: 0.001000\n",
      "\n"
     ]
    },
    {
     "name": "stderr",
     "output_type": "stream",
     "text": [
      "Epoch: 15/120 [TRAIN]: 100%|██████████| 21/21 [00:08<00:00,  2.61it/s]\n",
      "Epoch 15/120 [Val]: 100%|██████████| 4/4 [00:00<00:00,  6.83it/s]\n"
     ]
    },
    {
     "name": "stdout",
     "output_type": "stream",
     "text": [
      "\n",
      "Epoch [15/120]:\n",
      "  Train Loss: 2.8892, Train Acc: 11.76%\n",
      "  Val Loss: 3.0303, Val Acc: 12.22%, LR: 0.001000\n",
      "\n"
     ]
    },
    {
     "name": "stderr",
     "output_type": "stream",
     "text": [
      "Epoch: 16/120 [TRAIN]: 100%|██████████| 21/21 [00:08<00:00,  2.56it/s]\n",
      "Epoch 16/120 [Val]: 100%|██████████| 4/4 [00:00<00:00,  6.70it/s]\n"
     ]
    },
    {
     "name": "stdout",
     "output_type": "stream",
     "text": [
      "\n",
      "Epoch [16/120]:\n",
      "  Train Loss: 2.8547, Train Acc: 10.59%\n",
      "  Val Loss: 3.5479, Val Acc: 11.11%, LR: 0.001000\n",
      "\n"
     ]
    },
    {
     "name": "stderr",
     "output_type": "stream",
     "text": [
      "Epoch: 17/120 [TRAIN]: 100%|██████████| 21/21 [00:08<00:00,  2.49it/s]\n",
      "Epoch 17/120 [Val]: 100%|██████████| 4/4 [00:00<00:00,  6.51it/s]\n"
     ]
    },
    {
     "name": "stdout",
     "output_type": "stream",
     "text": [
      "\n",
      "Epoch [17/120]:\n",
      "  Train Loss: 2.8397, Train Acc: 12.55%\n",
      "  Val Loss: 3.0651, Val Acc: 10.00%, LR: 0.001000\n",
      "\n"
     ]
    },
    {
     "name": "stderr",
     "output_type": "stream",
     "text": [
      "Epoch: 18/120 [TRAIN]: 100%|██████████| 21/21 [00:08<00:00,  2.43it/s]\n",
      "Epoch 18/120 [Val]: 100%|██████████| 4/4 [00:00<00:00,  6.59it/s]\n"
     ]
    },
    {
     "name": "stdout",
     "output_type": "stream",
     "text": [
      "\n",
      "Epoch [18/120]:\n",
      "  Train Loss: 2.8378, Train Acc: 9.22%\n",
      "  Val Loss: 2.9544, Val Acc: 10.00%, LR: 0.001000\n",
      "\n"
     ]
    },
    {
     "name": "stderr",
     "output_type": "stream",
     "text": [
      "Epoch: 19/120 [TRAIN]: 100%|██████████| 21/21 [00:08<00:00,  2.37it/s]\n",
      "Epoch 19/120 [Val]: 100%|██████████| 4/4 [00:00<00:00,  6.44it/s]\n"
     ]
    },
    {
     "name": "stdout",
     "output_type": "stream",
     "text": [
      "\n",
      "Epoch [19/120]:\n",
      "  Train Loss: 2.8506, Train Acc: 12.35%\n",
      "  Val Loss: 3.0842, Val Acc: 7.78%, LR: 0.001000\n",
      "\n"
     ]
    },
    {
     "name": "stderr",
     "output_type": "stream",
     "text": [
      "Epoch: 20/120 [TRAIN]: 100%|██████████| 21/21 [00:08<00:00,  2.37it/s]\n",
      "Epoch 20/120 [Val]: 100%|██████████| 4/4 [00:00<00:00,  6.31it/s]\n"
     ]
    },
    {
     "name": "stdout",
     "output_type": "stream",
     "text": [
      "\n",
      "Epoch [20/120]:\n",
      "  Train Loss: 2.8223, Train Acc: 10.78%\n",
      "  Val Loss: 2.9574, Val Acc: 10.00%, LR: 0.001000\n",
      "\n"
     ]
    },
    {
     "name": "stderr",
     "output_type": "stream",
     "text": [
      "Epoch: 21/120 [TRAIN]: 100%|██████████| 21/21 [00:08<00:00,  2.45it/s]\n",
      "Epoch 21/120 [Val]: 100%|██████████| 4/4 [00:00<00:00,  6.61it/s]\n"
     ]
    },
    {
     "name": "stdout",
     "output_type": "stream",
     "text": [
      "\n",
      "Epoch [21/120]:\n",
      "  Train Loss: 2.8425, Train Acc: 12.35%\n",
      "  Val Loss: 3.8119, Val Acc: 8.89%, LR: 0.001000\n",
      "\n"
     ]
    },
    {
     "name": "stderr",
     "output_type": "stream",
     "text": [
      "Epoch: 22/120 [TRAIN]: 100%|██████████| 21/21 [00:08<00:00,  2.51it/s]\n",
      "Epoch 22/120 [Val]: 100%|██████████| 4/4 [00:00<00:00,  6.84it/s]\n"
     ]
    },
    {
     "name": "stdout",
     "output_type": "stream",
     "text": [
      "\n",
      "Epoch [22/120]:\n",
      "  Train Loss: 2.8148, Train Acc: 12.55%\n",
      "  Val Loss: 2.8250, Val Acc: 15.56%, LR: 0.001000\n",
      "\n"
     ]
    },
    {
     "name": "stderr",
     "output_type": "stream",
     "text": [
      "Epoch: 23/120 [TRAIN]: 100%|██████████| 21/21 [00:08<00:00,  2.55it/s]\n",
      "Epoch 23/120 [Val]: 100%|██████████| 4/4 [00:00<00:00,  6.87it/s]\n"
     ]
    },
    {
     "name": "stdout",
     "output_type": "stream",
     "text": [
      "\n",
      "Epoch [23/120]:\n",
      "  Train Loss: 2.8001, Train Acc: 11.57%\n",
      "  Val Loss: 3.1530, Val Acc: 11.11%, LR: 0.001000\n",
      "\n"
     ]
    },
    {
     "name": "stderr",
     "output_type": "stream",
     "text": [
      "Epoch: 24/120 [TRAIN]: 100%|██████████| 21/21 [00:08<00:00,  2.53it/s]\n",
      "Epoch 24/120 [Val]: 100%|██████████| 4/4 [00:00<00:00,  7.00it/s]\n"
     ]
    },
    {
     "name": "stdout",
     "output_type": "stream",
     "text": [
      "\n",
      "Epoch [24/120]:\n",
      "  Train Loss: 2.8306, Train Acc: 13.53%\n",
      "  Val Loss: 3.1254, Val Acc: 11.11%, LR: 0.001000\n",
      "\n"
     ]
    },
    {
     "name": "stderr",
     "output_type": "stream",
     "text": [
      "Epoch: 25/120 [TRAIN]: 100%|██████████| 21/21 [00:08<00:00,  2.52it/s]\n",
      "Epoch 25/120 [Val]: 100%|██████████| 4/4 [00:00<00:00,  6.75it/s]\n"
     ]
    },
    {
     "name": "stdout",
     "output_type": "stream",
     "text": [
      "\n",
      "Epoch [25/120]:\n",
      "  Train Loss: 2.8071, Train Acc: 14.51%\n",
      "  Val Loss: 3.4551, Val Acc: 8.89%, LR: 0.001000\n",
      "\n"
     ]
    },
    {
     "name": "stderr",
     "output_type": "stream",
     "text": [
      "Epoch: 26/120 [TRAIN]: 100%|██████████| 21/21 [00:08<00:00,  2.48it/s]\n",
      "Epoch 26/120 [Val]: 100%|██████████| 4/4 [00:00<00:00,  6.69it/s]\n"
     ]
    },
    {
     "name": "stdout",
     "output_type": "stream",
     "text": [
      "\n",
      "Epoch [26/120]:\n",
      "  Train Loss: 2.7676, Train Acc: 14.51%\n",
      "  Val Loss: 3.0686, Val Acc: 10.00%, LR: 0.001000\n",
      "\n"
     ]
    },
    {
     "name": "stderr",
     "output_type": "stream",
     "text": [
      "Epoch: 27/120 [TRAIN]: 100%|██████████| 21/21 [00:08<00:00,  2.45it/s]\n",
      "Epoch 27/120 [Val]: 100%|██████████| 4/4 [00:00<00:00,  6.51it/s]\n"
     ]
    },
    {
     "name": "stdout",
     "output_type": "stream",
     "text": [
      "\n",
      "Epoch [27/120]:\n",
      "  Train Loss: 2.7542, Train Acc: 17.06%\n",
      "  Val Loss: 2.9050, Val Acc: 6.67%, LR: 0.001000\n",
      "\n"
     ]
    },
    {
     "name": "stderr",
     "output_type": "stream",
     "text": [
      "Epoch: 28/120 [TRAIN]: 100%|██████████| 21/21 [00:08<00:00,  2.45it/s]\n",
      "Epoch 28/120 [Val]: 100%|██████████| 4/4 [00:00<00:00,  6.73it/s]\n"
     ]
    },
    {
     "name": "stdout",
     "output_type": "stream",
     "text": [
      "\n",
      "Epoch [28/120]:\n",
      "  Train Loss: 2.7698, Train Acc: 14.31%\n",
      "  Val Loss: 2.8999, Val Acc: 8.89%, LR: 0.001000\n",
      "\n"
     ]
    },
    {
     "name": "stderr",
     "output_type": "stream",
     "text": [
      "Epoch: 29/120 [TRAIN]: 100%|██████████| 21/21 [00:08<00:00,  2.47it/s]\n",
      "Epoch 29/120 [Val]: 100%|██████████| 4/4 [00:00<00:00,  6.72it/s]\n"
     ]
    },
    {
     "name": "stdout",
     "output_type": "stream",
     "text": [
      "\n",
      "Epoch [29/120]:\n",
      "  Train Loss: 2.7643, Train Acc: 14.90%\n",
      "  Val Loss: 3.0080, Val Acc: 8.89%, LR: 0.001000\n",
      "\n"
     ]
    },
    {
     "name": "stderr",
     "output_type": "stream",
     "text": [
      "Epoch: 30/120 [TRAIN]: 100%|██████████| 21/21 [00:08<00:00,  2.49it/s]\n",
      "Epoch 30/120 [Val]: 100%|██████████| 4/4 [00:00<00:00,  6.60it/s]\n"
     ]
    },
    {
     "name": "stdout",
     "output_type": "stream",
     "text": [
      "\n",
      "Epoch [30/120]:\n",
      "  Train Loss: 2.6696, Train Acc: 17.65%\n",
      "  Val Loss: 2.8323, Val Acc: 13.33%, LR: 0.001000\n",
      "\n"
     ]
    },
    {
     "name": "stderr",
     "output_type": "stream",
     "text": [
      "Epoch: 31/120 [TRAIN]: 100%|██████████| 21/21 [00:08<00:00,  2.48it/s]\n",
      "Epoch 31/120 [Val]: 100%|██████████| 4/4 [00:00<00:00,  6.46it/s]\n"
     ]
    },
    {
     "name": "stdout",
     "output_type": "stream",
     "text": [
      "\n",
      "Epoch [31/120]:\n",
      "  Train Loss: 2.6480, Train Acc: 16.47%\n",
      "  Val Loss: 2.9842, Val Acc: 11.11%, LR: 0.001000\n",
      "\n"
     ]
    },
    {
     "name": "stderr",
     "output_type": "stream",
     "text": [
      "Epoch: 32/120 [TRAIN]: 100%|██████████| 21/21 [00:08<00:00,  2.50it/s]\n",
      "Epoch 32/120 [Val]: 100%|██████████| 4/4 [00:00<00:00,  6.26it/s]\n"
     ]
    },
    {
     "name": "stdout",
     "output_type": "stream",
     "text": [
      "\n",
      "Epoch [32/120]:\n",
      "  Train Loss: 2.6105, Train Acc: 18.43%\n",
      "  Val Loss: 2.8664, Val Acc: 11.11%, LR: 0.001000\n",
      "\n"
     ]
    },
    {
     "name": "stderr",
     "output_type": "stream",
     "text": [
      "Epoch: 33/120 [TRAIN]: 100%|██████████| 21/21 [00:08<00:00,  2.49it/s]\n",
      "Epoch 33/120 [Val]: 100%|██████████| 4/4 [00:00<00:00,  6.72it/s]\n"
     ]
    },
    {
     "name": "stdout",
     "output_type": "stream",
     "text": [
      "\n",
      "Epoch [33/120]:\n",
      "  Train Loss: 2.5948, Train Acc: 19.61%\n",
      "  Val Loss: 2.8490, Val Acc: 16.67%, LR: 0.001000\n",
      "\n"
     ]
    },
    {
     "name": "stderr",
     "output_type": "stream",
     "text": [
      "Epoch: 34/120 [TRAIN]: 100%|██████████| 21/21 [00:08<00:00,  2.50it/s]\n",
      "Epoch 34/120 [Val]: 100%|██████████| 4/4 [00:00<00:00,  6.78it/s]\n"
     ]
    },
    {
     "name": "stdout",
     "output_type": "stream",
     "text": [
      "\n",
      "Epoch [34/120]:\n",
      "  Train Loss: 2.6021, Train Acc: 19.80%\n",
      "  Val Loss: 3.0267, Val Acc: 8.89%, LR: 0.001000\n",
      "\n"
     ]
    },
    {
     "name": "stderr",
     "output_type": "stream",
     "text": [
      "Epoch: 35/120 [TRAIN]: 100%|██████████| 21/21 [00:08<00:00,  2.52it/s]\n",
      "Epoch 35/120 [Val]: 100%|██████████| 4/4 [00:00<00:00,  6.78it/s]\n"
     ]
    },
    {
     "name": "stdout",
     "output_type": "stream",
     "text": [
      "\n",
      "Epoch [35/120]:\n",
      "  Train Loss: 2.5829, Train Acc: 19.02%\n",
      "  Val Loss: 2.8866, Val Acc: 15.56%, LR: 0.001000\n",
      "\n"
     ]
    },
    {
     "name": "stderr",
     "output_type": "stream",
     "text": [
      "Epoch: 36/120 [TRAIN]: 100%|██████████| 21/21 [00:08<00:00,  2.50it/s]\n",
      "Epoch 36/120 [Val]: 100%|██████████| 4/4 [00:00<00:00,  6.76it/s]\n"
     ]
    },
    {
     "name": "stdout",
     "output_type": "stream",
     "text": [
      "\n",
      "Epoch [36/120]:\n",
      "  Train Loss: 2.5268, Train Acc: 20.59%\n",
      "  Val Loss: 2.8332, Val Acc: 12.22%, LR: 0.001000\n",
      "\n"
     ]
    },
    {
     "name": "stderr",
     "output_type": "stream",
     "text": [
      "Epoch: 37/120 [TRAIN]: 100%|██████████| 21/21 [00:08<00:00,  2.50it/s]\n",
      "Epoch 37/120 [Val]: 100%|██████████| 4/4 [00:00<00:00,  6.67it/s]\n"
     ]
    },
    {
     "name": "stdout",
     "output_type": "stream",
     "text": [
      "\n",
      "Epoch [37/120]:\n",
      "  Train Loss: 2.4244, Train Acc: 24.71%\n",
      "  Val Loss: 3.1125, Val Acc: 7.78%, LR: 0.001000\n",
      "\n"
     ]
    },
    {
     "name": "stderr",
     "output_type": "stream",
     "text": [
      "Epoch: 38/120 [TRAIN]: 100%|██████████| 21/21 [00:08<00:00,  2.49it/s]\n",
      "Epoch 38/120 [Val]: 100%|██████████| 4/4 [00:00<00:00,  6.39it/s]\n"
     ]
    },
    {
     "name": "stdout",
     "output_type": "stream",
     "text": [
      "\n",
      "Epoch [38/120]:\n",
      "  Train Loss: 2.4783, Train Acc: 23.73%\n",
      "  Val Loss: 3.1958, Val Acc: 8.89%, LR: 0.001000\n",
      "\n"
     ]
    },
    {
     "name": "stderr",
     "output_type": "stream",
     "text": [
      "Epoch: 39/120 [TRAIN]: 100%|██████████| 21/21 [00:08<00:00,  2.49it/s]\n",
      "Epoch 39/120 [Val]: 100%|██████████| 4/4 [00:00<00:00,  6.60it/s]\n"
     ]
    },
    {
     "name": "stdout",
     "output_type": "stream",
     "text": [
      "\n",
      "Epoch [39/120]:\n",
      "  Train Loss: 2.4368, Train Acc: 22.94%\n",
      "  Val Loss: 2.8619, Val Acc: 14.44%, LR: 0.001000\n",
      "\n"
     ]
    },
    {
     "name": "stderr",
     "output_type": "stream",
     "text": [
      "Epoch: 40/120 [TRAIN]: 100%|██████████| 21/21 [00:08<00:00,  2.49it/s]\n",
      "Epoch 40/120 [Val]: 100%|██████████| 4/4 [00:00<00:00,  6.59it/s]\n"
     ]
    },
    {
     "name": "stdout",
     "output_type": "stream",
     "text": [
      "\n",
      "Epoch [40/120]:\n",
      "  Train Loss: 2.3533, Train Acc: 27.06%\n",
      "  Val Loss: 2.8767, Val Acc: 13.33%, LR: 0.001000\n",
      "\n"
     ]
    },
    {
     "name": "stderr",
     "output_type": "stream",
     "text": [
      "Epoch: 41/120 [TRAIN]: 100%|██████████| 21/21 [00:08<00:00,  2.48it/s]\n",
      "Epoch 41/120 [Val]: 100%|██████████| 4/4 [00:00<00:00,  6.74it/s]\n"
     ]
    },
    {
     "name": "stdout",
     "output_type": "stream",
     "text": [
      "\n",
      "Epoch [41/120]:\n",
      "  Train Loss: 2.3776, Train Acc: 24.51%\n",
      "  Val Loss: 2.8701, Val Acc: 10.00%, LR: 0.001000\n",
      "\n"
     ]
    },
    {
     "name": "stderr",
     "output_type": "stream",
     "text": [
      "Epoch: 42/120 [TRAIN]: 100%|██████████| 21/21 [00:08<00:00,  2.48it/s]\n",
      "Epoch 42/120 [Val]: 100%|██████████| 4/4 [00:00<00:00,  6.42it/s]\n"
     ]
    },
    {
     "name": "stdout",
     "output_type": "stream",
     "text": [
      "\n",
      "Epoch [42/120]:\n",
      "  Train Loss: 2.3100, Train Acc: 26.27%\n",
      "  Val Loss: 3.2181, Val Acc: 14.44%, LR: 0.001000\n",
      "\n"
     ]
    },
    {
     "name": "stderr",
     "output_type": "stream",
     "text": [
      "Epoch: 43/120 [TRAIN]: 100%|██████████| 21/21 [00:08<00:00,  2.47it/s]\n",
      "Epoch 43/120 [Val]: 100%|██████████| 4/4 [00:00<00:00,  6.76it/s]\n"
     ]
    },
    {
     "name": "stdout",
     "output_type": "stream",
     "text": [
      "\n",
      "Epoch [43/120]:\n",
      "  Train Loss: 2.3399, Train Acc: 28.82%\n",
      "  Val Loss: 2.9913, Val Acc: 13.33%, LR: 0.001000\n",
      "\n"
     ]
    },
    {
     "name": "stderr",
     "output_type": "stream",
     "text": [
      "Epoch: 44/120 [TRAIN]: 100%|██████████| 21/21 [00:08<00:00,  2.46it/s]\n",
      "Epoch 44/120 [Val]: 100%|██████████| 4/4 [00:00<00:00,  6.75it/s]\n"
     ]
    },
    {
     "name": "stdout",
     "output_type": "stream",
     "text": [
      "\n",
      "Epoch [44/120]:\n",
      "  Train Loss: 2.2435, Train Acc: 29.61%\n",
      "  Val Loss: 3.1104, Val Acc: 14.44%, LR: 0.001000\n",
      "\n"
     ]
    },
    {
     "name": "stderr",
     "output_type": "stream",
     "text": [
      "Epoch: 45/120 [TRAIN]: 100%|██████████| 21/21 [00:08<00:00,  2.45it/s]\n",
      "Epoch 45/120 [Val]: 100%|██████████| 4/4 [00:00<00:00,  6.42it/s]\n"
     ]
    },
    {
     "name": "stdout",
     "output_type": "stream",
     "text": [
      "\n",
      "Epoch [45/120]:\n",
      "  Train Loss: 2.1596, Train Acc: 31.96%\n",
      "  Val Loss: 3.0613, Val Acc: 11.11%, LR: 0.001000\n",
      "\n"
     ]
    },
    {
     "name": "stderr",
     "output_type": "stream",
     "text": [
      "Epoch: 46/120 [TRAIN]: 100%|██████████| 21/21 [00:08<00:00,  2.46it/s]\n",
      "Epoch 46/120 [Val]: 100%|██████████| 4/4 [00:00<00:00,  6.55it/s]\n"
     ]
    },
    {
     "name": "stdout",
     "output_type": "stream",
     "text": [
      "\n",
      "Epoch [46/120]:\n",
      "  Train Loss: 2.0622, Train Acc: 35.69%\n",
      "  Val Loss: 3.2413, Val Acc: 14.44%, LR: 0.001000\n",
      "\n"
     ]
    },
    {
     "name": "stderr",
     "output_type": "stream",
     "text": [
      "Epoch: 47/120 [TRAIN]: 100%|██████████| 21/21 [00:08<00:00,  2.46it/s]\n",
      "Epoch 47/120 [Val]: 100%|██████████| 4/4 [00:00<00:00,  6.62it/s]\n"
     ]
    },
    {
     "name": "stdout",
     "output_type": "stream",
     "text": [
      "\n",
      "Epoch [47/120]:\n",
      "  Train Loss: 2.0609, Train Acc: 36.47%\n",
      "  Val Loss: 3.0795, Val Acc: 21.11%, LR: 0.001000\n",
      "\n"
     ]
    },
    {
     "name": "stderr",
     "output_type": "stream",
     "text": [
      "Epoch: 48/120 [TRAIN]: 100%|██████████| 21/21 [00:08<00:00,  2.45it/s]\n",
      "Epoch 48/120 [Val]: 100%|██████████| 4/4 [00:00<00:00,  6.50it/s]\n"
     ]
    },
    {
     "name": "stdout",
     "output_type": "stream",
     "text": [
      "\n",
      "Epoch [48/120]:\n",
      "  Train Loss: 1.9963, Train Acc: 39.61%\n",
      "  Val Loss: 3.2054, Val Acc: 15.56%, LR: 0.001000\n",
      "\n"
     ]
    },
    {
     "name": "stderr",
     "output_type": "stream",
     "text": [
      "Epoch: 49/120 [TRAIN]: 100%|██████████| 21/21 [00:08<00:00,  2.45it/s]\n",
      "Epoch 49/120 [Val]: 100%|██████████| 4/4 [00:00<00:00,  6.40it/s]\n"
     ]
    },
    {
     "name": "stdout",
     "output_type": "stream",
     "text": [
      "\n",
      "Epoch [49/120]:\n",
      "  Train Loss: 1.8408, Train Acc: 42.55%\n",
      "  Val Loss: 3.3966, Val Acc: 17.78%, LR: 0.001000\n",
      "\n"
     ]
    },
    {
     "name": "stderr",
     "output_type": "stream",
     "text": [
      "Epoch: 50/120 [TRAIN]: 100%|██████████| 21/21 [00:08<00:00,  2.46it/s]\n",
      "Epoch 50/120 [Val]: 100%|██████████| 4/4 [00:00<00:00,  6.20it/s]\n"
     ]
    },
    {
     "name": "stdout",
     "output_type": "stream",
     "text": [
      "\n",
      "Epoch [50/120]:\n",
      "  Train Loss: 1.8042, Train Acc: 44.71%\n",
      "  Val Loss: 3.4207, Val Acc: 13.33%, LR: 0.001000\n",
      "\n"
     ]
    },
    {
     "name": "stderr",
     "output_type": "stream",
     "text": [
      "Epoch: 51/120 [TRAIN]: 100%|██████████| 21/21 [00:08<00:00,  2.47it/s]\n",
      "Epoch 51/120 [Val]: 100%|██████████| 4/4 [00:00<00:00,  6.52it/s]\n"
     ]
    },
    {
     "name": "stdout",
     "output_type": "stream",
     "text": [
      "\n",
      "Epoch [51/120]:\n",
      "  Train Loss: 1.8327, Train Acc: 42.55%\n",
      "  Val Loss: 3.1392, Val Acc: 16.67%, LR: 0.001000\n",
      "\n"
     ]
    },
    {
     "name": "stderr",
     "output_type": "stream",
     "text": [
      "Epoch: 52/120 [TRAIN]: 100%|██████████| 21/21 [00:08<00:00,  2.47it/s]\n",
      "Epoch 52/120 [Val]: 100%|██████████| 4/4 [00:00<00:00,  6.39it/s]\n"
     ]
    },
    {
     "name": "stdout",
     "output_type": "stream",
     "text": [
      "\n",
      "Epoch [52/120]:\n",
      "  Train Loss: 1.7312, Train Acc: 46.08%\n",
      "  Val Loss: 3.4500, Val Acc: 14.44%, LR: 0.001000\n",
      "\n"
     ]
    },
    {
     "name": "stderr",
     "output_type": "stream",
     "text": [
      "Epoch: 53/120 [TRAIN]: 100%|██████████| 21/21 [00:08<00:00,  2.46it/s]\n",
      "Epoch 53/120 [Val]: 100%|██████████| 4/4 [00:00<00:00,  6.66it/s]\n"
     ]
    },
    {
     "name": "stdout",
     "output_type": "stream",
     "text": [
      "\n",
      "Epoch [53/120]:\n",
      "  Train Loss: 1.5491, Train Acc: 51.57%\n",
      "  Val Loss: 3.9079, Val Acc: 14.44%, LR: 0.001000\n",
      "\n"
     ]
    },
    {
     "name": "stderr",
     "output_type": "stream",
     "text": [
      "Epoch: 54/120 [TRAIN]: 100%|██████████| 21/21 [00:08<00:00,  2.45it/s]\n",
      "Epoch 54/120 [Val]: 100%|██████████| 4/4 [00:00<00:00,  6.70it/s]\n"
     ]
    },
    {
     "name": "stdout",
     "output_type": "stream",
     "text": [
      "\n",
      "Epoch [54/120]:\n",
      "  Train Loss: 1.4369, Train Acc: 53.53%\n",
      "  Val Loss: 3.6330, Val Acc: 18.89%, LR: 0.001000\n",
      "\n"
     ]
    },
    {
     "name": "stderr",
     "output_type": "stream",
     "text": [
      "Epoch: 55/120 [TRAIN]: 100%|██████████| 21/21 [00:08<00:00,  2.47it/s]\n",
      "Epoch 55/120 [Val]: 100%|██████████| 4/4 [00:00<00:00,  6.77it/s]\n"
     ]
    },
    {
     "name": "stdout",
     "output_type": "stream",
     "text": [
      "\n",
      "Epoch [55/120]:\n",
      "  Train Loss: 1.3618, Train Acc: 55.49%\n",
      "  Val Loss: 3.7695, Val Acc: 20.00%, LR: 0.001000\n",
      "\n"
     ]
    },
    {
     "name": "stderr",
     "output_type": "stream",
     "text": [
      "Epoch: 56/120 [TRAIN]: 100%|██████████| 21/21 [00:08<00:00,  2.46it/s]\n",
      "Epoch 56/120 [Val]: 100%|██████████| 4/4 [00:00<00:00,  6.74it/s]\n"
     ]
    },
    {
     "name": "stdout",
     "output_type": "stream",
     "text": [
      "\n",
      "Epoch [56/120]:\n",
      "  Train Loss: 1.2378, Train Acc: 61.18%\n",
      "  Val Loss: 3.9099, Val Acc: 14.44%, LR: 0.001000\n",
      "\n"
     ]
    },
    {
     "name": "stderr",
     "output_type": "stream",
     "text": [
      "Epoch: 57/120 [TRAIN]: 100%|██████████| 21/21 [00:08<00:00,  2.46it/s]\n",
      "Epoch 57/120 [Val]: 100%|██████████| 4/4 [00:00<00:00,  6.48it/s]\n"
     ]
    },
    {
     "name": "stdout",
     "output_type": "stream",
     "text": [
      "\n",
      "Epoch [57/120]:\n",
      "  Train Loss: 1.2002, Train Acc: 63.14%\n",
      "  Val Loss: 4.0668, Val Acc: 17.78%, LR: 0.001000\n",
      "\n"
     ]
    },
    {
     "name": "stderr",
     "output_type": "stream",
     "text": [
      "Epoch: 58/120 [TRAIN]: 100%|██████████| 21/21 [00:08<00:00,  2.45it/s]\n",
      "Epoch 58/120 [Val]: 100%|██████████| 4/4 [00:00<00:00,  6.38it/s]\n"
     ]
    },
    {
     "name": "stdout",
     "output_type": "stream",
     "text": [
      "\n",
      "Epoch [58/120]:\n",
      "  Train Loss: 1.1942, Train Acc: 61.96%\n",
      "  Val Loss: 4.1459, Val Acc: 16.67%, LR: 0.001000\n",
      "\n"
     ]
    },
    {
     "name": "stderr",
     "output_type": "stream",
     "text": [
      "Epoch: 59/120 [TRAIN]: 100%|██████████| 21/21 [00:08<00:00,  2.46it/s]\n",
      "Epoch 59/120 [Val]: 100%|██████████| 4/4 [00:00<00:00,  6.45it/s]\n"
     ]
    },
    {
     "name": "stdout",
     "output_type": "stream",
     "text": [
      "\n",
      "Epoch [59/120]:\n",
      "  Train Loss: 1.0478, Train Acc: 66.47%\n",
      "  Val Loss: 4.2835, Val Acc: 14.44%, LR: 0.001000\n",
      "\n"
     ]
    },
    {
     "name": "stderr",
     "output_type": "stream",
     "text": [
      "Epoch: 60/120 [TRAIN]: 100%|██████████| 21/21 [00:08<00:00,  2.47it/s]\n",
      "Epoch 60/120 [Val]: 100%|██████████| 4/4 [00:00<00:00,  6.78it/s]\n"
     ]
    },
    {
     "name": "stdout",
     "output_type": "stream",
     "text": [
      "\n",
      "Epoch [60/120]:\n",
      "  Train Loss: 0.9771, Train Acc: 68.04%\n",
      "  Val Loss: 4.5351, Val Acc: 12.22%, LR: 0.000500\n",
      "\n"
     ]
    },
    {
     "name": "stderr",
     "output_type": "stream",
     "text": [
      "Epoch: 61/120 [TRAIN]: 100%|██████████| 21/21 [00:08<00:00,  2.46it/s]\n",
      "Epoch 61/120 [Val]: 100%|██████████| 4/4 [00:00<00:00,  6.03it/s]\n"
     ]
    },
    {
     "name": "stdout",
     "output_type": "stream",
     "text": [
      "\n",
      "Epoch [61/120]:\n",
      "  Train Loss: 0.7466, Train Acc: 76.67%\n",
      "  Val Loss: 4.3931, Val Acc: 13.33%, LR: 0.000500\n",
      "\n"
     ]
    },
    {
     "name": "stderr",
     "output_type": "stream",
     "text": [
      "Epoch: 62/120 [TRAIN]: 100%|██████████| 21/21 [00:08<00:00,  2.46it/s]\n",
      "Epoch 62/120 [Val]: 100%|██████████| 4/4 [00:00<00:00,  6.31it/s]\n"
     ]
    },
    {
     "name": "stdout",
     "output_type": "stream",
     "text": [
      "\n",
      "Epoch [62/120]:\n",
      "  Train Loss: 0.5578, Train Acc: 84.12%\n",
      "  Val Loss: 4.6966, Val Acc: 20.00%, LR: 0.000500\n",
      "\n"
     ]
    },
    {
     "name": "stderr",
     "output_type": "stream",
     "text": [
      "Epoch: 63/120 [TRAIN]: 100%|██████████| 21/21 [00:08<00:00,  2.46it/s]\n",
      "Epoch 63/120 [Val]: 100%|██████████| 4/4 [00:00<00:00,  6.44it/s]\n"
     ]
    },
    {
     "name": "stdout",
     "output_type": "stream",
     "text": [
      "\n",
      "Epoch [63/120]:\n",
      "  Train Loss: 0.4969, Train Acc: 84.90%\n",
      "  Val Loss: 5.1851, Val Acc: 14.44%, LR: 0.000500\n",
      "\n"
     ]
    },
    {
     "name": "stderr",
     "output_type": "stream",
     "text": [
      "Epoch: 64/120 [TRAIN]: 100%|██████████| 21/21 [00:08<00:00,  2.45it/s]\n",
      "Epoch 64/120 [Val]: 100%|██████████| 4/4 [00:00<00:00,  6.62it/s]\n"
     ]
    },
    {
     "name": "stdout",
     "output_type": "stream",
     "text": [
      "\n",
      "Epoch [64/120]:\n",
      "  Train Loss: 0.4693, Train Acc: 84.31%\n",
      "  Val Loss: 5.2877, Val Acc: 15.56%, LR: 0.000500\n",
      "\n"
     ]
    },
    {
     "name": "stderr",
     "output_type": "stream",
     "text": [
      "Epoch: 65/120 [TRAIN]: 100%|██████████| 21/21 [00:08<00:00,  2.45it/s]\n",
      "Epoch 65/120 [Val]: 100%|██████████| 4/4 [00:00<00:00,  6.61it/s]\n"
     ]
    },
    {
     "name": "stdout",
     "output_type": "stream",
     "text": [
      "\n",
      "Epoch [65/120]:\n",
      "  Train Loss: 0.4938, Train Acc: 85.29%\n",
      "  Val Loss: 5.4634, Val Acc: 10.00%, LR: 0.000500\n",
      "\n"
     ]
    },
    {
     "name": "stderr",
     "output_type": "stream",
     "text": [
      "Epoch: 66/120 [TRAIN]: 100%|██████████| 21/21 [00:08<00:00,  2.45it/s]\n",
      "Epoch 66/120 [Val]: 100%|██████████| 4/4 [00:00<00:00,  6.58it/s]\n"
     ]
    },
    {
     "name": "stdout",
     "output_type": "stream",
     "text": [
      "\n",
      "Epoch [66/120]:\n",
      "  Train Loss: 0.3992, Train Acc: 88.43%\n",
      "  Val Loss: 5.4143, Val Acc: 6.67%, LR: 0.000500\n",
      "\n"
     ]
    },
    {
     "name": "stderr",
     "output_type": "stream",
     "text": [
      "Epoch: 67/120 [TRAIN]: 100%|██████████| 21/21 [00:08<00:00,  2.45it/s]\n",
      "Epoch 67/120 [Val]: 100%|██████████| 4/4 [00:00<00:00,  6.44it/s]\n"
     ]
    },
    {
     "name": "stdout",
     "output_type": "stream",
     "text": [
      "\n",
      "Epoch [67/120]:\n",
      "  Train Loss: 0.4805, Train Acc: 84.90%\n",
      "  Val Loss: 5.5722, Val Acc: 10.00%, LR: 0.000500\n",
      "\n"
     ]
    },
    {
     "name": "stderr",
     "output_type": "stream",
     "text": [
      "Epoch: 68/120 [TRAIN]: 100%|██████████| 21/21 [00:08<00:00,  2.45it/s]\n",
      "Epoch 68/120 [Val]: 100%|██████████| 4/4 [00:00<00:00,  6.74it/s]\n"
     ]
    },
    {
     "name": "stdout",
     "output_type": "stream",
     "text": [
      "\n",
      "Epoch [68/120]:\n",
      "  Train Loss: 0.3445, Train Acc: 90.78%\n",
      "  Val Loss: 4.9031, Val Acc: 12.22%, LR: 0.000500\n",
      "\n"
     ]
    },
    {
     "name": "stderr",
     "output_type": "stream",
     "text": [
      "Epoch: 69/120 [TRAIN]: 100%|██████████| 21/21 [00:08<00:00,  2.46it/s]\n",
      "Epoch 69/120 [Val]: 100%|██████████| 4/4 [00:00<00:00,  6.55it/s]\n"
     ]
    },
    {
     "name": "stdout",
     "output_type": "stream",
     "text": [
      "\n",
      "Epoch [69/120]:\n",
      "  Train Loss: 0.2852, Train Acc: 90.98%\n",
      "  Val Loss: 5.3379, Val Acc: 18.89%, LR: 0.000500\n",
      "\n"
     ]
    },
    {
     "name": "stderr",
     "output_type": "stream",
     "text": [
      "Epoch: 70/120 [TRAIN]: 100%|██████████| 21/21 [00:08<00:00,  2.47it/s]\n",
      "Epoch 70/120 [Val]: 100%|██████████| 4/4 [00:00<00:00,  6.60it/s]\n"
     ]
    },
    {
     "name": "stdout",
     "output_type": "stream",
     "text": [
      "\n",
      "Epoch [70/120]:\n",
      "  Train Loss: 0.2480, Train Acc: 92.55%\n",
      "  Val Loss: 5.5591, Val Acc: 17.78%, LR: 0.000500\n",
      "\n"
     ]
    },
    {
     "name": "stderr",
     "output_type": "stream",
     "text": [
      "Epoch: 71/120 [TRAIN]: 100%|██████████| 21/21 [00:08<00:00,  2.46it/s]\n",
      "Epoch 71/120 [Val]: 100%|██████████| 4/4 [00:00<00:00,  6.23it/s]\n"
     ]
    },
    {
     "name": "stdout",
     "output_type": "stream",
     "text": [
      "\n",
      "Epoch [71/120]:\n",
      "  Train Loss: 0.2144, Train Acc: 94.12%\n",
      "  Val Loss: 5.9267, Val Acc: 18.89%, LR: 0.000500\n",
      "\n"
     ]
    },
    {
     "name": "stderr",
     "output_type": "stream",
     "text": [
      "Epoch: 72/120 [TRAIN]: 100%|██████████| 21/21 [00:08<00:00,  2.48it/s]\n",
      "Epoch 72/120 [Val]: 100%|██████████| 4/4 [00:00<00:00,  6.43it/s]\n"
     ]
    },
    {
     "name": "stdout",
     "output_type": "stream",
     "text": [
      "\n",
      "Epoch [72/120]:\n",
      "  Train Loss: 0.3038, Train Acc: 90.39%\n",
      "  Val Loss: 5.7508, Val Acc: 17.78%, LR: 0.000500\n",
      "\n"
     ]
    },
    {
     "name": "stderr",
     "output_type": "stream",
     "text": [
      "Epoch: 73/120 [TRAIN]: 100%|██████████| 21/21 [00:08<00:00,  2.46it/s]\n",
      "Epoch 73/120 [Val]: 100%|██████████| 4/4 [00:00<00:00,  6.74it/s]\n"
     ]
    },
    {
     "name": "stdout",
     "output_type": "stream",
     "text": [
      "\n",
      "Epoch [73/120]:\n",
      "  Train Loss: 0.2657, Train Acc: 91.96%\n",
      "  Val Loss: 6.4343, Val Acc: 15.56%, LR: 0.000500\n",
      "\n"
     ]
    },
    {
     "name": "stderr",
     "output_type": "stream",
     "text": [
      "Epoch: 74/120 [TRAIN]: 100%|██████████| 21/21 [00:08<00:00,  2.47it/s]\n",
      "Epoch 74/120 [Val]: 100%|██████████| 4/4 [00:00<00:00,  6.44it/s]\n"
     ]
    },
    {
     "name": "stdout",
     "output_type": "stream",
     "text": [
      "\n",
      "Epoch [74/120]:\n",
      "  Train Loss: 0.2676, Train Acc: 91.37%\n",
      "  Val Loss: 5.5904, Val Acc: 17.78%, LR: 0.000500\n",
      "\n"
     ]
    },
    {
     "name": "stderr",
     "output_type": "stream",
     "text": [
      "Epoch: 75/120 [TRAIN]: 100%|██████████| 21/21 [00:08<00:00,  2.46it/s]\n",
      "Epoch 75/120 [Val]: 100%|██████████| 4/4 [00:00<00:00,  6.55it/s]\n"
     ]
    },
    {
     "name": "stdout",
     "output_type": "stream",
     "text": [
      "\n",
      "Epoch [75/120]:\n",
      "  Train Loss: 0.3465, Train Acc: 90.00%\n",
      "  Val Loss: 6.1331, Val Acc: 17.78%, LR: 0.000500\n",
      "\n"
     ]
    },
    {
     "name": "stderr",
     "output_type": "stream",
     "text": [
      "Epoch: 76/120 [TRAIN]: 100%|██████████| 21/21 [00:08<00:00,  2.48it/s]\n",
      "Epoch 76/120 [Val]: 100%|██████████| 4/4 [00:00<00:00,  6.66it/s]\n"
     ]
    },
    {
     "name": "stdout",
     "output_type": "stream",
     "text": [
      "\n",
      "Epoch [76/120]:\n",
      "  Train Loss: 0.1948, Train Acc: 93.73%\n",
      "  Val Loss: 6.1410, Val Acc: 11.11%, LR: 0.000500\n",
      "\n"
     ]
    },
    {
     "name": "stderr",
     "output_type": "stream",
     "text": [
      "Epoch: 77/120 [TRAIN]: 100%|██████████| 21/21 [00:08<00:00,  2.47it/s]\n",
      "Epoch 77/120 [Val]: 100%|██████████| 4/4 [00:00<00:00,  6.35it/s]\n"
     ]
    },
    {
     "name": "stdout",
     "output_type": "stream",
     "text": [
      "\n",
      "Epoch [77/120]:\n",
      "  Train Loss: 0.1906, Train Acc: 94.51%\n",
      "  Val Loss: 6.5230, Val Acc: 14.44%, LR: 0.000500\n",
      "\n"
     ]
    },
    {
     "name": "stderr",
     "output_type": "stream",
     "text": [
      "Epoch: 78/120 [TRAIN]: 100%|██████████| 21/21 [00:08<00:00,  2.47it/s]\n",
      "Epoch 78/120 [Val]: 100%|██████████| 4/4 [00:00<00:00,  6.72it/s]\n"
     ]
    },
    {
     "name": "stdout",
     "output_type": "stream",
     "text": [
      "\n",
      "Epoch [78/120]:\n",
      "  Train Loss: 0.2373, Train Acc: 93.53%\n",
      "  Val Loss: 6.7152, Val Acc: 16.67%, LR: 0.000500\n",
      "\n"
     ]
    },
    {
     "name": "stderr",
     "output_type": "stream",
     "text": [
      "Epoch: 79/120 [TRAIN]: 100%|██████████| 21/21 [00:08<00:00,  2.47it/s]\n",
      "Epoch 79/120 [Val]: 100%|██████████| 4/4 [00:00<00:00,  6.66it/s]\n"
     ]
    },
    {
     "name": "stdout",
     "output_type": "stream",
     "text": [
      "\n",
      "Epoch [79/120]:\n",
      "  Train Loss: 0.2428, Train Acc: 91.76%\n",
      "  Val Loss: 6.0293, Val Acc: 14.44%, LR: 0.000500\n",
      "\n"
     ]
    },
    {
     "name": "stderr",
     "output_type": "stream",
     "text": [
      "Epoch: 80/120 [TRAIN]: 100%|██████████| 21/21 [00:08<00:00,  2.47it/s]\n",
      "Epoch 80/120 [Val]: 100%|██████████| 4/4 [00:00<00:00,  6.66it/s]\n"
     ]
    },
    {
     "name": "stdout",
     "output_type": "stream",
     "text": [
      "\n",
      "Epoch [80/120]:\n",
      "  Train Loss: 0.2978, Train Acc: 90.39%\n",
      "  Val Loss: 5.9955, Val Acc: 16.67%, LR: 0.000500\n",
      "\n"
     ]
    },
    {
     "name": "stderr",
     "output_type": "stream",
     "text": [
      "Epoch: 81/120 [TRAIN]: 100%|██████████| 21/21 [00:08<00:00,  2.47it/s]\n",
      "Epoch 81/120 [Val]: 100%|██████████| 4/4 [00:00<00:00,  6.69it/s]\n"
     ]
    },
    {
     "name": "stdout",
     "output_type": "stream",
     "text": [
      "\n",
      "Epoch [81/120]:\n",
      "  Train Loss: 0.1849, Train Acc: 94.31%\n",
      "  Val Loss: 5.5549, Val Acc: 20.00%, LR: 0.000500\n",
      "\n"
     ]
    },
    {
     "name": "stderr",
     "output_type": "stream",
     "text": [
      "Epoch: 82/120 [TRAIN]: 100%|██████████| 21/21 [00:08<00:00,  2.48it/s]\n",
      "Epoch 82/120 [Val]: 100%|██████████| 4/4 [00:00<00:00,  6.81it/s]\n"
     ]
    },
    {
     "name": "stdout",
     "output_type": "stream",
     "text": [
      "\n",
      "Epoch [82/120]:\n",
      "  Train Loss: 0.2468, Train Acc: 92.16%\n",
      "  Val Loss: 6.1805, Val Acc: 15.56%, LR: 0.000500\n",
      "\n"
     ]
    },
    {
     "name": "stderr",
     "output_type": "stream",
     "text": [
      "Epoch: 83/120 [TRAIN]: 100%|██████████| 21/21 [00:08<00:00,  2.46it/s]\n",
      "Epoch 83/120 [Val]: 100%|██████████| 4/4 [00:00<00:00,  6.40it/s]\n"
     ]
    },
    {
     "name": "stdout",
     "output_type": "stream",
     "text": [
      "\n",
      "Epoch [83/120]:\n",
      "  Train Loss: 0.1577, Train Acc: 96.08%\n",
      "  Val Loss: 6.3578, Val Acc: 17.78%, LR: 0.000500\n",
      "\n"
     ]
    },
    {
     "name": "stderr",
     "output_type": "stream",
     "text": [
      "Epoch: 84/120 [TRAIN]: 100%|██████████| 21/21 [00:08<00:00,  2.47it/s]\n",
      "Epoch 84/120 [Val]: 100%|██████████| 4/4 [00:00<00:00,  6.77it/s]\n"
     ]
    },
    {
     "name": "stdout",
     "output_type": "stream",
     "text": [
      "\n",
      "Epoch [84/120]:\n",
      "  Train Loss: 0.1530, Train Acc: 95.88%\n",
      "  Val Loss: 6.7141, Val Acc: 15.56%, LR: 0.000500\n",
      "\n"
     ]
    },
    {
     "name": "stderr",
     "output_type": "stream",
     "text": [
      "Epoch: 85/120 [TRAIN]: 100%|██████████| 21/21 [00:08<00:00,  2.45it/s]\n",
      "Epoch 85/120 [Val]: 100%|██████████| 4/4 [00:00<00:00,  6.56it/s]\n"
     ]
    },
    {
     "name": "stdout",
     "output_type": "stream",
     "text": [
      "\n",
      "Epoch [85/120]:\n",
      "  Train Loss: 0.1233, Train Acc: 96.27%\n",
      "  Val Loss: 6.2877, Val Acc: 18.89%, LR: 0.000500\n",
      "\n"
     ]
    },
    {
     "name": "stderr",
     "output_type": "stream",
     "text": [
      "Epoch: 86/120 [TRAIN]: 100%|██████████| 21/21 [00:08<00:00,  2.46it/s]\n",
      "Epoch 86/120 [Val]: 100%|██████████| 4/4 [00:00<00:00,  6.60it/s]\n"
     ]
    },
    {
     "name": "stdout",
     "output_type": "stream",
     "text": [
      "\n",
      "Epoch [86/120]:\n",
      "  Train Loss: 0.1991, Train Acc: 93.14%\n",
      "  Val Loss: 5.9258, Val Acc: 16.67%, LR: 0.000500\n",
      "\n"
     ]
    },
    {
     "name": "stderr",
     "output_type": "stream",
     "text": [
      "Epoch: 87/120 [TRAIN]: 100%|██████████| 21/21 [00:08<00:00,  2.47it/s]\n",
      "Epoch 87/120 [Val]: 100%|██████████| 4/4 [00:00<00:00,  6.25it/s]\n"
     ]
    },
    {
     "name": "stdout",
     "output_type": "stream",
     "text": [
      "\n",
      "Epoch [87/120]:\n",
      "  Train Loss: 0.2026, Train Acc: 93.53%\n",
      "  Val Loss: 6.8580, Val Acc: 12.22%, LR: 0.000500\n",
      "\n"
     ]
    },
    {
     "name": "stderr",
     "output_type": "stream",
     "text": [
      "Epoch: 88/120 [TRAIN]: 100%|██████████| 21/21 [00:08<00:00,  2.46it/s]\n",
      "Epoch 88/120 [Val]: 100%|██████████| 4/4 [00:00<00:00,  6.49it/s]\n"
     ]
    },
    {
     "name": "stdout",
     "output_type": "stream",
     "text": [
      "\n",
      "Epoch [88/120]:\n",
      "  Train Loss: 0.2162, Train Acc: 91.76%\n",
      "  Val Loss: 7.1009, Val Acc: 13.33%, LR: 0.000500\n",
      "\n"
     ]
    },
    {
     "name": "stderr",
     "output_type": "stream",
     "text": [
      "Epoch: 89/120 [TRAIN]: 100%|██████████| 21/21 [00:08<00:00,  2.46it/s]\n",
      "Epoch 89/120 [Val]: 100%|██████████| 4/4 [00:00<00:00,  6.59it/s]\n"
     ]
    },
    {
     "name": "stdout",
     "output_type": "stream",
     "text": [
      "\n",
      "Epoch [89/120]:\n",
      "  Train Loss: 0.2194, Train Acc: 94.12%\n",
      "  Val Loss: 6.0101, Val Acc: 16.67%, LR: 0.000500\n",
      "\n"
     ]
    },
    {
     "name": "stderr",
     "output_type": "stream",
     "text": [
      "Epoch: 90/120 [TRAIN]: 100%|██████████| 21/21 [00:08<00:00,  2.47it/s]\n",
      "Epoch 90/120 [Val]: 100%|██████████| 4/4 [00:00<00:00,  6.65it/s]\n"
     ]
    },
    {
     "name": "stdout",
     "output_type": "stream",
     "text": [
      "\n",
      "Epoch [90/120]:\n",
      "  Train Loss: 0.1180, Train Acc: 95.69%\n",
      "  Val Loss: 6.2363, Val Acc: 18.89%, LR: 0.000500\n",
      "\n"
     ]
    },
    {
     "name": "stderr",
     "output_type": "stream",
     "text": [
      "Epoch: 91/120 [TRAIN]: 100%|██████████| 21/21 [00:08<00:00,  2.46it/s]\n",
      "Epoch 91/120 [Val]: 100%|██████████| 4/4 [00:00<00:00,  6.59it/s]\n"
     ]
    },
    {
     "name": "stdout",
     "output_type": "stream",
     "text": [
      "\n",
      "Epoch [91/120]:\n",
      "  Train Loss: 0.1254, Train Acc: 96.27%\n",
      "  Val Loss: 6.3780, Val Acc: 13.33%, LR: 0.000500\n",
      "\n"
     ]
    },
    {
     "name": "stderr",
     "output_type": "stream",
     "text": [
      "Epoch: 92/120 [TRAIN]: 100%|██████████| 21/21 [00:08<00:00,  2.47it/s]\n",
      "Epoch 92/120 [Val]: 100%|██████████| 4/4 [00:00<00:00,  6.63it/s]\n"
     ]
    },
    {
     "name": "stdout",
     "output_type": "stream",
     "text": [
      "\n",
      "Epoch [92/120]:\n",
      "  Train Loss: 0.1687, Train Acc: 94.12%\n",
      "  Val Loss: 6.8785, Val Acc: 10.00%, LR: 0.000500\n",
      "\n"
     ]
    },
    {
     "name": "stderr",
     "output_type": "stream",
     "text": [
      "Epoch: 93/120 [TRAIN]: 100%|██████████| 21/21 [00:08<00:00,  2.46it/s]\n",
      "Epoch 93/120 [Val]: 100%|██████████| 4/4 [00:00<00:00,  6.68it/s]\n"
     ]
    },
    {
     "name": "stdout",
     "output_type": "stream",
     "text": [
      "\n",
      "Epoch [93/120]:\n",
      "  Train Loss: 0.1588, Train Acc: 94.51%\n",
      "  Val Loss: 7.2213, Val Acc: 12.22%, LR: 0.000500\n",
      "\n"
     ]
    },
    {
     "name": "stderr",
     "output_type": "stream",
     "text": [
      "Epoch: 94/120 [TRAIN]: 100%|██████████| 21/21 [00:08<00:00,  2.48it/s]\n",
      "Epoch 94/120 [Val]: 100%|██████████| 4/4 [00:00<00:00,  6.62it/s]\n"
     ]
    },
    {
     "name": "stdout",
     "output_type": "stream",
     "text": [
      "\n",
      "Epoch [94/120]:\n",
      "  Train Loss: 0.1623, Train Acc: 94.12%\n",
      "  Val Loss: 7.1263, Val Acc: 14.44%, LR: 0.000500\n",
      "\n"
     ]
    },
    {
     "name": "stderr",
     "output_type": "stream",
     "text": [
      "Epoch: 95/120 [TRAIN]: 100%|██████████| 21/21 [00:08<00:00,  2.47it/s]\n",
      "Epoch 95/120 [Val]: 100%|██████████| 4/4 [00:00<00:00,  6.77it/s]\n"
     ]
    },
    {
     "name": "stdout",
     "output_type": "stream",
     "text": [
      "\n",
      "Epoch [95/120]:\n",
      "  Train Loss: 0.1912, Train Acc: 94.31%\n",
      "  Val Loss: 6.5730, Val Acc: 22.22%, LR: 0.000500\n",
      "\n"
     ]
    },
    {
     "name": "stderr",
     "output_type": "stream",
     "text": [
      "Epoch: 96/120 [TRAIN]: 100%|██████████| 21/21 [00:08<00:00,  2.45it/s]\n",
      "Epoch 96/120 [Val]: 100%|██████████| 4/4 [00:00<00:00,  6.03it/s]\n"
     ]
    },
    {
     "name": "stdout",
     "output_type": "stream",
     "text": [
      "\n",
      "Epoch [96/120]:\n",
      "  Train Loss: 0.1564, Train Acc: 96.08%\n",
      "  Val Loss: 6.7745, Val Acc: 11.11%, LR: 0.000500\n",
      "\n"
     ]
    },
    {
     "name": "stderr",
     "output_type": "stream",
     "text": [
      "Epoch: 97/120 [TRAIN]: 100%|██████████| 21/21 [00:08<00:00,  2.46it/s]\n",
      "Epoch 97/120 [Val]: 100%|██████████| 4/4 [00:00<00:00,  6.40it/s]\n"
     ]
    },
    {
     "name": "stdout",
     "output_type": "stream",
     "text": [
      "\n",
      "Epoch [97/120]:\n",
      "  Train Loss: 0.1079, Train Acc: 97.06%\n",
      "  Val Loss: 6.7154, Val Acc: 18.89%, LR: 0.000500\n",
      "\n"
     ]
    },
    {
     "name": "stderr",
     "output_type": "stream",
     "text": [
      "Epoch: 98/120 [TRAIN]: 100%|██████████| 21/21 [00:08<00:00,  2.47it/s]\n",
      "Epoch 98/120 [Val]: 100%|██████████| 4/4 [00:00<00:00,  6.35it/s]\n"
     ]
    },
    {
     "name": "stdout",
     "output_type": "stream",
     "text": [
      "\n",
      "Epoch [98/120]:\n",
      "  Train Loss: 0.1169, Train Acc: 96.67%\n",
      "  Val Loss: 7.5479, Val Acc: 13.33%, LR: 0.000500\n",
      "\n"
     ]
    },
    {
     "name": "stderr",
     "output_type": "stream",
     "text": [
      "Epoch: 99/120 [TRAIN]: 100%|██████████| 21/21 [00:08<00:00,  2.46it/s]\n",
      "Epoch 99/120 [Val]: 100%|██████████| 4/4 [00:00<00:00,  6.40it/s]\n"
     ]
    },
    {
     "name": "stdout",
     "output_type": "stream",
     "text": [
      "\n",
      "Epoch [99/120]:\n",
      "  Train Loss: 0.2277, Train Acc: 93.14%\n",
      "  Val Loss: 6.8603, Val Acc: 16.67%, LR: 0.000500\n",
      "\n"
     ]
    },
    {
     "name": "stderr",
     "output_type": "stream",
     "text": [
      "Epoch: 100/120 [TRAIN]: 100%|██████████| 21/21 [00:08<00:00,  2.47it/s]\n",
      "Epoch 100/120 [Val]: 100%|██████████| 4/4 [00:00<00:00,  6.51it/s]\n"
     ]
    },
    {
     "name": "stdout",
     "output_type": "stream",
     "text": [
      "\n",
      "Epoch [100/120]:\n",
      "  Train Loss: 0.1271, Train Acc: 96.47%\n",
      "  Val Loss: 7.1425, Val Acc: 15.56%, LR: 0.000250\n",
      "\n"
     ]
    },
    {
     "name": "stderr",
     "output_type": "stream",
     "text": [
      "Epoch: 101/120 [TRAIN]: 100%|██████████| 21/21 [00:08<00:00,  2.47it/s]\n",
      "Epoch 101/120 [Val]: 100%|██████████| 4/4 [00:00<00:00,  6.51it/s]\n"
     ]
    },
    {
     "name": "stdout",
     "output_type": "stream",
     "text": [
      "\n",
      "Epoch [101/120]:\n",
      "  Train Loss: 0.1207, Train Acc: 97.45%\n",
      "  Val Loss: 7.0433, Val Acc: 13.33%, LR: 0.000250\n",
      "\n"
     ]
    },
    {
     "name": "stderr",
     "output_type": "stream",
     "text": [
      "Epoch: 102/120 [TRAIN]: 100%|██████████| 21/21 [00:08<00:00,  2.47it/s]\n",
      "Epoch 102/120 [Val]: 100%|██████████| 4/4 [00:00<00:00,  6.63it/s]\n"
     ]
    },
    {
     "name": "stdout",
     "output_type": "stream",
     "text": [
      "\n",
      "Epoch [102/120]:\n",
      "  Train Loss: 0.1104, Train Acc: 97.25%\n",
      "  Val Loss: 7.0546, Val Acc: 11.11%, LR: 0.000250\n",
      "\n"
     ]
    },
    {
     "name": "stderr",
     "output_type": "stream",
     "text": [
      "Epoch: 103/120 [TRAIN]: 100%|██████████| 21/21 [00:08<00:00,  2.46it/s]\n",
      "Epoch 103/120 [Val]: 100%|██████████| 4/4 [00:00<00:00,  6.53it/s]\n"
     ]
    },
    {
     "name": "stdout",
     "output_type": "stream",
     "text": [
      "\n",
      "Epoch [103/120]:\n",
      "  Train Loss: 0.0514, Train Acc: 98.24%\n",
      "  Val Loss: 7.1063, Val Acc: 15.56%, LR: 0.000250\n",
      "\n"
     ]
    },
    {
     "name": "stderr",
     "output_type": "stream",
     "text": [
      "Epoch: 104/120 [TRAIN]: 100%|██████████| 21/21 [00:08<00:00,  2.46it/s]\n",
      "Epoch 104/120 [Val]: 100%|██████████| 4/4 [00:00<00:00,  6.84it/s]\n"
     ]
    },
    {
     "name": "stdout",
     "output_type": "stream",
     "text": [
      "\n",
      "Epoch [104/120]:\n",
      "  Train Loss: 0.0534, Train Acc: 98.43%\n",
      "  Val Loss: 6.8771, Val Acc: 15.56%, LR: 0.000250\n",
      "\n"
     ]
    },
    {
     "name": "stderr",
     "output_type": "stream",
     "text": [
      "Epoch: 105/120 [TRAIN]: 100%|██████████| 21/21 [00:08<00:00,  2.46it/s]\n",
      "Epoch 105/120 [Val]: 100%|██████████| 4/4 [00:00<00:00,  6.61it/s]\n"
     ]
    },
    {
     "name": "stdout",
     "output_type": "stream",
     "text": [
      "\n",
      "Epoch [105/120]:\n",
      "  Train Loss: 0.0963, Train Acc: 97.84%\n",
      "  Val Loss: 6.7939, Val Acc: 12.22%, LR: 0.000250\n",
      "\n"
     ]
    },
    {
     "name": "stderr",
     "output_type": "stream",
     "text": [
      "Epoch: 106/120 [TRAIN]: 100%|██████████| 21/21 [00:08<00:00,  2.45it/s]\n",
      "Epoch 106/120 [Val]: 100%|██████████| 4/4 [00:00<00:00,  6.55it/s]\n"
     ]
    },
    {
     "name": "stdout",
     "output_type": "stream",
     "text": [
      "\n",
      "Epoch [106/120]:\n",
      "  Train Loss: 0.0449, Train Acc: 98.82%\n",
      "  Val Loss: 6.8156, Val Acc: 14.44%, LR: 0.000250\n",
      "\n"
     ]
    },
    {
     "name": "stderr",
     "output_type": "stream",
     "text": [
      "Epoch: 107/120 [TRAIN]: 100%|██████████| 21/21 [00:08<00:00,  2.45it/s]\n",
      "Epoch 107/120 [Val]: 100%|██████████| 4/4 [00:00<00:00,  6.66it/s]\n"
     ]
    },
    {
     "name": "stdout",
     "output_type": "stream",
     "text": [
      "\n",
      "Epoch [107/120]:\n",
      "  Train Loss: 0.0344, Train Acc: 99.41%\n",
      "  Val Loss: 6.8775, Val Acc: 16.67%, LR: 0.000250\n",
      "\n"
     ]
    },
    {
     "name": "stderr",
     "output_type": "stream",
     "text": [
      "Epoch: 108/120 [TRAIN]: 100%|██████████| 21/21 [00:08<00:00,  2.45it/s]\n",
      "Epoch 108/120 [Val]: 100%|██████████| 4/4 [00:00<00:00,  6.23it/s]\n"
     ]
    },
    {
     "name": "stdout",
     "output_type": "stream",
     "text": [
      "\n",
      "Epoch [108/120]:\n",
      "  Train Loss: 0.0455, Train Acc: 98.43%\n",
      "  Val Loss: 7.2087, Val Acc: 13.33%, LR: 0.000250\n",
      "\n"
     ]
    },
    {
     "name": "stderr",
     "output_type": "stream",
     "text": [
      "Epoch: 109/120 [TRAIN]: 100%|██████████| 21/21 [00:08<00:00,  2.46it/s]\n",
      "Epoch 109/120 [Val]: 100%|██████████| 4/4 [00:00<00:00,  6.63it/s]\n"
     ]
    },
    {
     "name": "stdout",
     "output_type": "stream",
     "text": [
      "\n",
      "Epoch [109/120]:\n",
      "  Train Loss: 0.0390, Train Acc: 99.02%\n",
      "  Val Loss: 7.6016, Val Acc: 13.33%, LR: 0.000250\n",
      "\n"
     ]
    },
    {
     "name": "stderr",
     "output_type": "stream",
     "text": [
      "Epoch: 110/120 [TRAIN]: 100%|██████████| 21/21 [00:08<00:00,  2.47it/s]\n",
      "Epoch 110/120 [Val]: 100%|██████████| 4/4 [00:00<00:00,  6.75it/s]\n"
     ]
    },
    {
     "name": "stdout",
     "output_type": "stream",
     "text": [
      "\n",
      "Epoch [110/120]:\n",
      "  Train Loss: 0.0493, Train Acc: 98.63%\n",
      "  Val Loss: 7.2058, Val Acc: 12.22%, LR: 0.000250\n",
      "\n"
     ]
    },
    {
     "name": "stderr",
     "output_type": "stream",
     "text": [
      "Epoch: 111/120 [TRAIN]: 100%|██████████| 21/21 [00:08<00:00,  2.47it/s]\n",
      "Epoch 111/120 [Val]: 100%|██████████| 4/4 [00:00<00:00,  6.69it/s]\n"
     ]
    },
    {
     "name": "stdout",
     "output_type": "stream",
     "text": [
      "\n",
      "Epoch [111/120]:\n",
      "  Train Loss: 0.0507, Train Acc: 98.43%\n",
      "  Val Loss: 7.1652, Val Acc: 11.11%, LR: 0.000250\n",
      "\n"
     ]
    },
    {
     "name": "stderr",
     "output_type": "stream",
     "text": [
      "Epoch: 112/120 [TRAIN]: 100%|██████████| 21/21 [00:08<00:00,  2.47it/s]\n",
      "Epoch 112/120 [Val]: 100%|██████████| 4/4 [00:00<00:00,  6.36it/s]\n"
     ]
    },
    {
     "name": "stdout",
     "output_type": "stream",
     "text": [
      "\n",
      "Epoch [112/120]:\n",
      "  Train Loss: 0.0440, Train Acc: 98.82%\n",
      "  Val Loss: 7.3202, Val Acc: 18.89%, LR: 0.000250\n",
      "\n"
     ]
    },
    {
     "name": "stderr",
     "output_type": "stream",
     "text": [
      "Epoch: 113/120 [TRAIN]: 100%|██████████| 21/21 [00:08<00:00,  2.47it/s]\n",
      "Epoch 113/120 [Val]: 100%|██████████| 4/4 [00:00<00:00,  6.57it/s]\n"
     ]
    },
    {
     "name": "stdout",
     "output_type": "stream",
     "text": [
      "\n",
      "Epoch [113/120]:\n",
      "  Train Loss: 0.0534, Train Acc: 98.43%\n",
      "  Val Loss: 7.0924, Val Acc: 18.89%, LR: 0.000250\n",
      "\n"
     ]
    },
    {
     "name": "stderr",
     "output_type": "stream",
     "text": [
      "Epoch: 114/120 [TRAIN]: 100%|██████████| 21/21 [00:08<00:00,  2.46it/s]\n",
      "Epoch 114/120 [Val]: 100%|██████████| 4/4 [00:00<00:00,  6.62it/s]\n"
     ]
    },
    {
     "name": "stdout",
     "output_type": "stream",
     "text": [
      "\n",
      "Epoch [114/120]:\n",
      "  Train Loss: 0.0581, Train Acc: 98.24%\n",
      "  Val Loss: 7.1433, Val Acc: 20.00%, LR: 0.000250\n",
      "\n"
     ]
    },
    {
     "name": "stderr",
     "output_type": "stream",
     "text": [
      "Epoch: 115/120 [TRAIN]: 100%|██████████| 21/21 [00:08<00:00,  2.47it/s]\n",
      "Epoch 115/120 [Val]: 100%|██████████| 4/4 [00:00<00:00,  6.50it/s]\n"
     ]
    },
    {
     "name": "stdout",
     "output_type": "stream",
     "text": [
      "\n",
      "Epoch [115/120]:\n",
      "  Train Loss: 0.0364, Train Acc: 99.02%\n",
      "  Val Loss: 7.1940, Val Acc: 16.67%, LR: 0.000250\n",
      "\n"
     ]
    },
    {
     "name": "stderr",
     "output_type": "stream",
     "text": [
      "Epoch: 116/120 [TRAIN]: 100%|██████████| 21/21 [00:08<00:00,  2.47it/s]\n",
      "Epoch 116/120 [Val]: 100%|██████████| 4/4 [00:00<00:00,  6.67it/s]\n"
     ]
    },
    {
     "name": "stdout",
     "output_type": "stream",
     "text": [
      "\n",
      "Epoch [116/120]:\n",
      "  Train Loss: 0.0331, Train Acc: 99.22%\n",
      "  Val Loss: 7.5676, Val Acc: 14.44%, LR: 0.000250\n",
      "\n"
     ]
    },
    {
     "name": "stderr",
     "output_type": "stream",
     "text": [
      "Epoch: 117/120 [TRAIN]: 100%|██████████| 21/21 [00:08<00:00,  2.46it/s]\n",
      "Epoch 117/120 [Val]: 100%|██████████| 4/4 [00:00<00:00,  6.74it/s]\n"
     ]
    },
    {
     "name": "stdout",
     "output_type": "stream",
     "text": [
      "\n",
      "Epoch [117/120]:\n",
      "  Train Loss: 0.0347, Train Acc: 98.43%\n",
      "  Val Loss: 7.1459, Val Acc: 14.44%, LR: 0.000250\n",
      "\n"
     ]
    },
    {
     "name": "stderr",
     "output_type": "stream",
     "text": [
      "Epoch: 118/120 [TRAIN]: 100%|██████████| 21/21 [00:08<00:00,  2.47it/s]\n",
      "Epoch 118/120 [Val]: 100%|██████████| 4/4 [00:00<00:00,  6.23it/s]\n"
     ]
    },
    {
     "name": "stdout",
     "output_type": "stream",
     "text": [
      "\n",
      "Epoch [118/120]:\n",
      "  Train Loss: 0.0289, Train Acc: 99.61%\n",
      "  Val Loss: 7.0774, Val Acc: 14.44%, LR: 0.000250\n",
      "\n"
     ]
    },
    {
     "name": "stderr",
     "output_type": "stream",
     "text": [
      "Epoch: 119/120 [TRAIN]: 100%|██████████| 21/21 [00:08<00:00,  2.48it/s]\n",
      "Epoch 119/120 [Val]: 100%|██████████| 4/4 [00:00<00:00,  6.50it/s]\n"
     ]
    },
    {
     "name": "stdout",
     "output_type": "stream",
     "text": [
      "\n",
      "Epoch [119/120]:\n",
      "  Train Loss: 0.0297, Train Acc: 99.22%\n",
      "  Val Loss: 7.3664, Val Acc: 14.44%, LR: 0.000250\n",
      "\n"
     ]
    },
    {
     "name": "stderr",
     "output_type": "stream",
     "text": [
      "Epoch: 120/120 [TRAIN]: 100%|██████████| 21/21 [00:08<00:00,  2.48it/s]\n",
      "Epoch 120/120 [Val]: 100%|██████████| 4/4 [00:00<00:00,  6.72it/s]"
     ]
    },
    {
     "name": "stdout",
     "output_type": "stream",
     "text": [
      "\n",
      "Epoch [120/120]:\n",
      "  Train Loss: 0.0302, Train Acc: 99.02%\n",
      "  Val Loss: 7.4150, Val Acc: 11.11%, LR: 0.000250\n",
      "\n",
      "Hoàn thành huấn luyện!\n"
     ]
    },
    {
     "name": "stderr",
     "output_type": "stream",
     "text": [
      "\n"
     ]
    }
   ],
   "source": [
    "for epoch in range(NUM_EPOCHS):\n",
    "    #==============TRAINING PHASE==================\n",
    "    model.train()\n",
    "    running_loss = 0.0\n",
    "    correct = 0\n",
    "    total = 0\n",
    "\n",
    "    for images, labels in tqdm(train_loader, desc=f\"Epoch: {epoch+1}/{NUM_EPOCHS} [TRAIN]\"):\n",
    "        images = images.to(device)\n",
    "        labels = labels.to(device)\n",
    "\n",
    "        #Forward pass:\n",
    "        optimizer.zero_grad()\n",
    "        outputs = model(images)\n",
    "        loss = criterion(outputs, labels)\n",
    "\n",
    "        # Backward pass\n",
    "        loss.backward()\n",
    "        optimizer.step()\n",
    "\n",
    "        # Thống kê\n",
    "        running_loss += loss.item() * images.size(0)\n",
    "        _, predicted = outputs.max(1)\n",
    "        correct += (predicted == labels).sum().item()\n",
    "\n",
    "    train_loss = running_loss / len(train_loader.dataset)\n",
    "    train_acc = 100 * correct / len(train_loader.dataset)\n",
    "\n",
    "    # ===== VALIDATION PHASE =====\n",
    "    model.eval()\n",
    "    val_correct, val_total = 0, 0\n",
    "    val_running_loss = 0.0\n",
    "\n",
    "    with torch.no_grad():\n",
    "        for images, labels in tqdm(val_loader, desc=f\"Epoch {epoch+1}/{NUM_EPOCHS} [Val]\"):\n",
    "            images, labels = images.to(device), labels.to(device)\n",
    "            outputs = model(images)\n",
    "            loss = criterion(outputs, labels)\n",
    "\n",
    "            val_running_loss += loss.item() * images.size(0)\n",
    "            _, predicted = outputs.max(1)\n",
    "            val_correct += (predicted == labels).sum().item()\n",
    "            val_total += labels.size(0)\n",
    "\n",
    "    val_loss = val_running_loss / len(val_loader.dataset)\n",
    "    val_acc = 100 * val_correct / len(val_loader.dataset)\n",
    "\n",
    "    #Save best model\n",
    "    if val_acc > best_val_acc:\n",
    "        best_val_acc = val_acc\n",
    "        best_model_state = model.state_dict().copy()\n",
    "\n",
    "    # Update learning rate\n",
    "    scheduler.step()\n",
    "\n",
    "    # Lưu history\n",
    "    train_losss.append(train_loss)\n",
    "    train_accc.append(train_acc)\n",
    "    val_losss.append(val_loss)\n",
    "    val_accc.append(val_acc)\n",
    "\n",
    "    # In kết quả\n",
    "    print(f\"\\nEpoch [{epoch+1}/{NUM_EPOCHS}]:\")\n",
    "    print(f\"  Train Loss: {train_loss:.4f}, Train Acc: {train_acc:.2f}%\")\n",
    "    print(f\"  Val Loss: {val_loss:.4f}, Val Acc: {val_acc:.2f}%, LR: {scheduler.get_last_lr()[0]:.6f}\\n\")\n",
    "\n",
    "#     early_stopping(val_loss, model)\n",
    "#     if early_stopping.early_stop:\n",
    "#         print(\"Early stopping\")\n",
    "#         break\n",
    "\n",
    "# early_stopping.load_best_model(model)\n",
    "print(\"Hoàn thành huấn luyện!\")"
   ]
  },
  {
   "cell_type": "code",
   "execution_count": 13,
   "id": "9356c1d0",
   "metadata": {
    "execution": {
     "iopub.execute_input": "2025-10-31T07:10:56.402417Z",
     "iopub.status.busy": "2025-10-31T07:10:56.401664Z",
     "iopub.status.idle": "2025-10-31T07:10:56.836244Z",
     "shell.execute_reply": "2025-10-31T07:10:56.835423Z"
    },
    "papermill": {
     "duration": 0.585048,
     "end_time": "2025-10-31T07:10:56.837874",
     "exception": false,
     "start_time": "2025-10-31T07:10:56.252826",
     "status": "completed"
    },
    "tags": []
   },
   "outputs": [
    {
     "data": {
      "image/png": "[encoded data removed]",
      "text/plain": [
       "<Figure size 1200x500 with 2 Axes>"
      ]
     },
     "metadata": {},
     "output_type": "display_data"
    }
   ],
   "source": [
    "# Assuming train_losses, val_losses, train_accuracies, val_accuracies are lists storing the metrics\n",
    "epochs = range(1, len(train_losss) + 1)\n",
    "\n",
    "plt.figure(figsize=(12, 5))\n",
    "\n",
    "# Plotting loss\n",
    "plt.subplot(1, 2, 1)\n",
    "plt.plot(epochs, train_losss, label='Train Loss')\n",
    "plt.plot(epochs, val_losss, label='Validation Loss')\n",
    "plt.title('Loss Over Epochs')\n",
    "plt.xlabel('Epochs')\n",
    "plt.ylabel('Loss')\n",
    "plt.legend()\n",
    "\n",
    "# Plotting accuracy\n",
    "plt.subplot(1, 2, 2)\n",
    "plt.plot(epochs, train_accc, label='Train Accuracy')\n",
    "plt.plot(epochs, val_accc, label='Validation Accuracy')\n",
    "plt.title('Accuracy Over Epochs')\n",
    "plt.xlabel('Epochs')\n",
    "plt.ylabel('Accuracy')\n",
    "plt.legend()\n",
    "\n",
    "plt.tight_layout()\n",
    "plt.show()\n"
   ]
  },
  {
   "cell_type": "code",
   "execution_count": 14,
   "id": "2786ac87",
   "metadata": {
    "execution": {
     "iopub.execute_input": "2025-10-31T07:10:57.223925Z",
     "iopub.status.busy": "2025-10-31T07:10:57.223516Z",
     "iopub.status.idle": "2025-10-31T07:11:04.831203Z",
     "shell.execute_reply": "2025-10-31T07:11:04.830300Z"
    },
    "papermill": {
     "duration": 7.846301,
     "end_time": "2025-10-31T07:11:04.832225",
     "exception": false,
     "start_time": "2025-10-31T07:10:56.985924",
     "status": "completed"
    },
    "tags": []
   },
   "outputs": [
    {
     "name": "stdout",
     "output_type": "stream",
     "text": [
      "Bắt đầu inference trên TEST SET...\n"
     ]
    },
    {
     "name": "stderr",
     "output_type": "stream",
     "text": [
      "Test Inference: 100%|██████████| 24/24 [00:07<00:00,  3.17it/s]"
     ]
    },
    {
     "name": "stdout",
     "output_type": "stream",
     "text": [
      "Đã tạo file submission.csv tại /kaggle/working/submission.csv với 600 dự đoán!\n",
      "\n",
      "Preview kết quả:\n",
      "   ID  label\n",
      "0   1      9\n",
      "1   2      9\n",
      "2   3     19\n",
      "3   4     10\n",
      "4   5     12\n",
      "5   6      3\n",
      "6   7      2\n",
      "7   8     19\n",
      "8   9      4\n",
      "9  10     17\n"
     ]
    },
    {
     "name": "stderr",
     "output_type": "stream",
     "text": [
      "\n"
     ]
    }
   ],
   "source": [
    "# 9. Inference trên Test Set\n",
    "\n",
    "print(\"Bắt đầu inference trên TEST SET...\")\n",
    "\n",
    "# Load test dataset\n",
    "test_dataset = FoodData(os.path.join(root, \"contest_data/test/\"), transform=val_transform, is_test=True)\n",
    "test_loader = DataLoader(\n",
    "    test_dataset,\n",
    "    batch_size=BATCH_SIZE,\n",
    "    shuffle=False\n",
    ")\n",
    "\n",
    "# Inference\n",
    "model.load_state_dict(best_model_state)\n",
    "model.eval()\n",
    "# Change file_names to image_ids\n",
    "image_ids = []\n",
    "# Remove the is_negative prediction as it's not needed for this submission format\n",
    "preds_category_id = []\n",
    "\n",
    "with torch.no_grad():\n",
    "    for i, (images, _) in enumerate(tqdm(test_loader, desc=\"Test Inference\")):\n",
    "        images = images.to(device)\n",
    "        outputs = model(images)\n",
    "        # Get the predicted class index\n",
    "        _, predicted = outputs.max(1)\n",
    "\n",
    "        # Get image IDs instead of file names\n",
    "        batch_start = i * BATCH_SIZE\n",
    "        batch_end = batch_start + images.size(0)\n",
    "        # Assuming 'id' is the column name for image IDs in test_mapping.csv\n",
    "        batch_ids = test_dataset.annotations.iloc[batch_start:batch_end]['ID'].values\n",
    "        image_ids.extend(batch_ids)\n",
    "\n",
    "        # Store the predicted category_id (which is the class index + 1 if class 0 is not used,\n",
    "        # or directly the class index if class 0 is used for a food category)\n",
    "        # Based on the label.csv, the labels are 0-19, so we store the predicted index directly.\n",
    "        preds_category_id.extend(predicted.cpu().numpy())\n",
    "\n",
    "\n",
    "# Tạo DataFrame kết quả\n",
    "df_submission = pd.DataFrame({\n",
    "    'ID': image_ids,  # Change column name to 'id'\n",
    "    'label': preds_category_id\n",
    "})\n",
    "\n",
    "# Lưu file\n",
    "submission_csv_path = os.path.join(cwd, \"submission.csv\") # Save to current working directory\n",
    "df_submission.to_csv(submission_csv_path, index=False)\n",
    "print(f\"Đã tạo file submission.csv tại {submission_csv_path} với {len(df_submission)} dự đoán!\")\n",
    "\n",
    "# Hiển thị preview\n",
    "print(\"\\nPreview kết quả:\")\n",
    "print(df_submission.head(10))"
   ]
  },
  {
   "cell_type": "code",
   "execution_count": null,
   "id": "e70b0473",
   "metadata": {
    "papermill": {
     "duration": 0.149268,
     "end_time": "2025-10-31T07:11:05.131823",
     "exception": false,
     "start_time": "2025-10-31T07:11:04.982555",
     "status": "completed"
    },
    "tags": []
   },
   "outputs": [],
   "source": []
  }
 ],
 "metadata": {
  "kaggle": {
   "accelerator": "nvidiaTeslaT4",
   "dataSources": [
    {
     "databundleVersionId": 14171284,
     "sourceId": 118293,
     "sourceType": "competition"
    }
   ],
   "dockerImageVersionId": 31154,
   "isGpuEnabled": true,
   "isInternetEnabled": true,
   "language": "python",
   "sourceType": "notebook"
  },
  "kernelspec": {
   "display_name": "Python 3",
   "language": "python",
   "name": "python3"
  },
  "language_info": {
   "codemirror_mode": {
    "name": "ipython",
    "version": 3
   },
   "file_extension": ".py",
   "mimetype": "text/x-python",
   "name": "python",
   "nbconvert_exporter": "python",
   "pygments_lexer": "ipython3",
   "version": "3.11.13"
  },
  "papermill": {
   "default_parameters": {},
   "duration": 1099.749944,
   "end_time": "2025-10-31T07:11:06.822239",
   "environment_variables": {},
   "exception": null,
   "input_path": "__notebook__.ipynb",
   "output_path": "__notebook__.ipynb",
   "parameters": {},
   "start_time": "2025-10-31T06:52:47.072295",
   "version": "2.6.0"
  }
 },
 "nbformat": 4,
 "nbformat_minor": 5
}
